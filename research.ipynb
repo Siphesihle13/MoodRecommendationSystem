{
  "nbformat": 4,
  "nbformat_minor": 0,
  "metadata": {
    "colab": {
      "name": "research.ipynb",
      "provenance": [],
      "collapsed_sections": [],
      "include_colab_link": true
    },
    "kernelspec": {
      "display_name": "Python 3",
      "language": "python",
      "name": "python3"
    },
    "language_info": {
      "codemirror_mode": {
        "name": "ipython",
        "version": 3
      },
      "file_extension": ".py",
      "mimetype": "text/x-python",
      "name": "python",
      "nbconvert_exporter": "python",
      "pygments_lexer": "ipython3",
      "version": "3.8.3"
    }
  },
  "cells": [
    {
      "cell_type": "markdown",
      "metadata": {
        "id": "view-in-github",
        "colab_type": "text"
      },
      "source": [
        "<a href=\"https://colab.research.google.com/github/Siphesihle13/MoodRecommendationSystem/blob/main/research.ipynb\" target=\"_parent\"><img src=\"https://colab.research.google.com/assets/colab-badge.svg\" alt=\"Open In Colab\"/></a>"
      ]
    },
    {
      "cell_type": "markdown",
      "metadata": {
        "id": "2NOTkMTFU0ZE"
      },
      "source": [
        "Music Mood Classification using GMM \\\\\n",
        "Compiled by: Siphesihle Ndhlovu (1599603)"
      ]
    },
    {
      "cell_type": "code",
      "metadata": {
        "colab": {
          "base_uri": "https://localhost:8080/"
        },
        "id": "f87RlhlzuXq1",
        "outputId": "a8d81bb5-f566-4ec1-faee-73f6cfa180ad"
      },
      "source": [
        "!pip install pgmpy\n",
        "!pip install matplotlib"
      ],
      "execution_count": null,
      "outputs": [
        {
          "output_type": "stream",
          "name": "stdout",
          "text": [
            "Requirement already satisfied: pgmpy in /usr/local/lib/python3.7/dist-packages (0.1.16)\n",
            "Requirement already satisfied: joblib in /usr/local/lib/python3.7/dist-packages (from pgmpy) (1.1.0)\n",
            "Requirement already satisfied: scipy in /usr/local/lib/python3.7/dist-packages (from pgmpy) (1.4.1)\n",
            "Requirement already satisfied: pyparsing in /usr/local/lib/python3.7/dist-packages (from pgmpy) (3.0.6)\n",
            "Requirement already satisfied: tqdm in /usr/local/lib/python3.7/dist-packages (from pgmpy) (4.62.3)\n",
            "Requirement already satisfied: scikit-learn in /usr/local/lib/python3.7/dist-packages (from pgmpy) (1.0.1)\n",
            "Requirement already satisfied: networkx in /usr/local/lib/python3.7/dist-packages (from pgmpy) (2.6.3)\n",
            "Requirement already satisfied: pandas in /usr/local/lib/python3.7/dist-packages (from pgmpy) (1.1.5)\n",
            "Requirement already satisfied: statsmodels in /usr/local/lib/python3.7/dist-packages (from pgmpy) (0.10.2)\n",
            "Requirement already satisfied: torch in /usr/local/lib/python3.7/dist-packages (from pgmpy) (1.10.0+cu111)\n",
            "Requirement already satisfied: numpy in /usr/local/lib/python3.7/dist-packages (from pgmpy) (1.19.5)\n",
            "Requirement already satisfied: python-dateutil>=2.7.3 in /usr/local/lib/python3.7/dist-packages (from pandas->pgmpy) (2.8.2)\n",
            "Requirement already satisfied: pytz>=2017.2 in /usr/local/lib/python3.7/dist-packages (from pandas->pgmpy) (2018.9)\n",
            "Requirement already satisfied: six>=1.5 in /usr/local/lib/python3.7/dist-packages (from python-dateutil>=2.7.3->pandas->pgmpy) (1.15.0)\n",
            "Requirement already satisfied: threadpoolctl>=2.0.0 in /usr/local/lib/python3.7/dist-packages (from scikit-learn->pgmpy) (3.0.0)\n",
            "Requirement already satisfied: patsy>=0.4.0 in /usr/local/lib/python3.7/dist-packages (from statsmodels->pgmpy) (0.5.2)\n",
            "Requirement already satisfied: typing-extensions in /usr/local/lib/python3.7/dist-packages (from torch->pgmpy) (3.10.0.2)\n",
            "Requirement already satisfied: matplotlib in /usr/local/lib/python3.7/dist-packages (3.5.0)\n",
            "Requirement already satisfied: setuptools-scm>=4 in /usr/local/lib/python3.7/dist-packages (from matplotlib) (6.3.2)\n",
            "Requirement already satisfied: python-dateutil>=2.7 in /usr/local/lib/python3.7/dist-packages (from matplotlib) (2.8.2)\n",
            "Requirement already satisfied: packaging>=20.0 in /usr/local/lib/python3.7/dist-packages (from matplotlib) (21.3)\n",
            "Requirement already satisfied: kiwisolver>=1.0.1 in /usr/local/lib/python3.7/dist-packages (from matplotlib) (1.3.2)\n",
            "Requirement already satisfied: pillow>=6.2.0 in /usr/local/lib/python3.7/dist-packages (from matplotlib) (7.1.2)\n",
            "Requirement already satisfied: numpy>=1.17 in /usr/local/lib/python3.7/dist-packages (from matplotlib) (1.19.5)\n",
            "Requirement already satisfied: cycler>=0.10 in /usr/local/lib/python3.7/dist-packages (from matplotlib) (0.11.0)\n",
            "Requirement already satisfied: pyparsing>=2.2.1 in /usr/local/lib/python3.7/dist-packages (from matplotlib) (3.0.6)\n",
            "Requirement already satisfied: fonttools>=4.22.0 in /usr/local/lib/python3.7/dist-packages (from matplotlib) (4.28.1)\n",
            "Requirement already satisfied: six>=1.5 in /usr/local/lib/python3.7/dist-packages (from python-dateutil>=2.7->matplotlib) (1.15.0)\n",
            "Requirement already satisfied: tomli>=1.0.0 in /usr/local/lib/python3.7/dist-packages (from setuptools-scm>=4->matplotlib) (1.2.2)\n",
            "Requirement already satisfied: setuptools in /usr/local/lib/python3.7/dist-packages (from setuptools-scm>=4->matplotlib) (57.4.0)\n"
          ]
        }
      ]
    },
    {
      "cell_type": "code",
      "metadata": {
        "colab": {
          "base_uri": "https://localhost:8080/"
        },
        "id": "xHVWYFmlOPWJ",
        "outputId": "7b057a4b-3e63-4b3a-8edc-767edeacab1f"
      },
      "source": [
        "!pip install bnlearn"
      ],
      "execution_count": null,
      "outputs": [
        {
          "output_type": "stream",
          "name": "stdout",
          "text": [
            "Requirement already satisfied: bnlearn in /usr/local/lib/python3.7/dist-packages (0.4.7)\n",
            "Requirement already satisfied: tqdm in /usr/local/lib/python3.7/dist-packages (from bnlearn) (4.62.3)\n",
            "Requirement already satisfied: wget in /usr/local/lib/python3.7/dist-packages (from bnlearn) (3.2)\n",
            "Requirement already satisfied: statsmodels in /usr/local/lib/python3.7/dist-packages (from bnlearn) (0.10.2)\n",
            "Requirement already satisfied: packaging in /usr/local/lib/python3.7/dist-packages (from bnlearn) (21.3)\n",
            "Requirement already satisfied: matplotlib>=3.3.4 in /usr/local/lib/python3.7/dist-packages (from bnlearn) (3.5.0)\n",
            "Requirement already satisfied: ismember in /usr/local/lib/python3.7/dist-packages (from bnlearn) (0.2.1)\n",
            "Requirement already satisfied: df2onehot in /usr/local/lib/python3.7/dist-packages (from bnlearn) (0.2.16)\n",
            "Requirement already satisfied: fsspec in /usr/local/lib/python3.7/dist-packages (from bnlearn) (2021.11.1)\n",
            "Requirement already satisfied: tabulate in /usr/local/lib/python3.7/dist-packages (from bnlearn) (0.8.9)\n",
            "Requirement already satisfied: community in /usr/local/lib/python3.7/dist-packages (from bnlearn) (1.0.0b1)\n",
            "Requirement already satisfied: sklearn in /usr/local/lib/python3.7/dist-packages (from bnlearn) (0.0)\n",
            "Requirement already satisfied: pgmpy>=0.1.13 in /usr/local/lib/python3.7/dist-packages (from bnlearn) (0.1.16)\n",
            "Requirement already satisfied: pandas in /usr/local/lib/python3.7/dist-packages (from bnlearn) (1.1.5)\n",
            "Requirement already satisfied: networkx>2.5 in /usr/local/lib/python3.7/dist-packages (from bnlearn) (2.6.3)\n",
            "Requirement already satisfied: numpy in /usr/local/lib/python3.7/dist-packages (from bnlearn) (1.19.5)\n",
            "Requirement already satisfied: pypickle in /usr/local/lib/python3.7/dist-packages (from bnlearn) (0.1.1)\n",
            "Requirement already satisfied: funcsigs in /usr/local/lib/python3.7/dist-packages (from bnlearn) (1.0.2)\n",
            "Requirement already satisfied: setuptools-scm>=4 in /usr/local/lib/python3.7/dist-packages (from matplotlib>=3.3.4->bnlearn) (6.3.2)\n",
            "Requirement already satisfied: fonttools>=4.22.0 in /usr/local/lib/python3.7/dist-packages (from matplotlib>=3.3.4->bnlearn) (4.28.1)\n",
            "Requirement already satisfied: pillow>=6.2.0 in /usr/local/lib/python3.7/dist-packages (from matplotlib>=3.3.4->bnlearn) (7.1.2)\n",
            "Requirement already satisfied: pyparsing>=2.2.1 in /usr/local/lib/python3.7/dist-packages (from matplotlib>=3.3.4->bnlearn) (3.0.6)\n",
            "Requirement already satisfied: kiwisolver>=1.0.1 in /usr/local/lib/python3.7/dist-packages (from matplotlib>=3.3.4->bnlearn) (1.3.2)\n",
            "Requirement already satisfied: python-dateutil>=2.7 in /usr/local/lib/python3.7/dist-packages (from matplotlib>=3.3.4->bnlearn) (2.8.2)\n",
            "Requirement already satisfied: cycler>=0.10 in /usr/local/lib/python3.7/dist-packages (from matplotlib>=3.3.4->bnlearn) (0.11.0)\n",
            "Requirement already satisfied: scipy in /usr/local/lib/python3.7/dist-packages (from pgmpy>=0.1.13->bnlearn) (1.4.1)\n",
            "Requirement already satisfied: scikit-learn in /usr/local/lib/python3.7/dist-packages (from pgmpy>=0.1.13->bnlearn) (1.0.1)\n",
            "Requirement already satisfied: joblib in /usr/local/lib/python3.7/dist-packages (from pgmpy>=0.1.13->bnlearn) (1.1.0)\n",
            "Requirement already satisfied: torch in /usr/local/lib/python3.7/dist-packages (from pgmpy>=0.1.13->bnlearn) (1.10.0+cu111)\n",
            "Requirement already satisfied: six>=1.5 in /usr/local/lib/python3.7/dist-packages (from python-dateutil>=2.7->matplotlib>=3.3.4->bnlearn) (1.15.0)\n",
            "Requirement already satisfied: tomli>=1.0.0 in /usr/local/lib/python3.7/dist-packages (from setuptools-scm>=4->matplotlib>=3.3.4->bnlearn) (1.2.2)\n",
            "Requirement already satisfied: setuptools in /usr/local/lib/python3.7/dist-packages (from setuptools-scm>=4->matplotlib>=3.3.4->bnlearn) (57.4.0)\n",
            "Requirement already satisfied: Flask in /usr/local/lib/python3.7/dist-packages (from community->bnlearn) (1.1.4)\n",
            "Requirement already satisfied: requests in /usr/local/lib/python3.7/dist-packages (from community->bnlearn) (2.23.0)\n",
            "Requirement already satisfied: click<8.0,>=5.1 in /usr/local/lib/python3.7/dist-packages (from Flask->community->bnlearn) (7.1.2)\n",
            "Requirement already satisfied: itsdangerous<2.0,>=0.24 in /usr/local/lib/python3.7/dist-packages (from Flask->community->bnlearn) (1.1.0)\n",
            "Requirement already satisfied: Werkzeug<2.0,>=0.15 in /usr/local/lib/python3.7/dist-packages (from Flask->community->bnlearn) (1.0.1)\n",
            "Requirement already satisfied: Jinja2<3.0,>=2.10.1 in /usr/local/lib/python3.7/dist-packages (from Flask->community->bnlearn) (2.11.3)\n",
            "Requirement already satisfied: MarkupSafe>=0.23 in /usr/local/lib/python3.7/dist-packages (from Jinja2<3.0,>=2.10.1->Flask->community->bnlearn) (2.0.1)\n",
            "Requirement already satisfied: pytz>=2017.2 in /usr/local/lib/python3.7/dist-packages (from pandas->bnlearn) (2018.9)\n",
            "Requirement already satisfied: chardet<4,>=3.0.2 in /usr/local/lib/python3.7/dist-packages (from requests->community->bnlearn) (3.0.4)\n",
            "Requirement already satisfied: certifi>=2017.4.17 in /usr/local/lib/python3.7/dist-packages (from requests->community->bnlearn) (2021.10.8)\n",
            "Requirement already satisfied: idna<3,>=2.5 in /usr/local/lib/python3.7/dist-packages (from requests->community->bnlearn) (2.10)\n",
            "Requirement already satisfied: urllib3!=1.25.0,!=1.25.1,<1.26,>=1.21.1 in /usr/local/lib/python3.7/dist-packages (from requests->community->bnlearn) (1.24.3)\n",
            "Requirement already satisfied: threadpoolctl>=2.0.0 in /usr/local/lib/python3.7/dist-packages (from scikit-learn->pgmpy>=0.1.13->bnlearn) (3.0.0)\n",
            "Requirement already satisfied: patsy>=0.4.0 in /usr/local/lib/python3.7/dist-packages (from statsmodels->bnlearn) (0.5.2)\n",
            "Requirement already satisfied: typing-extensions in /usr/local/lib/python3.7/dist-packages (from torch->pgmpy>=0.1.13->bnlearn) (3.10.0.2)\n"
          ]
        }
      ]
    },
    {
      "cell_type": "code",
      "metadata": {
        "id": "4WFBSiBy9Heg"
      },
      "source": [
        "#from google.colab import files\n",
        "#uploaded=files.upload()"
      ],
      "execution_count": null,
      "outputs": []
    },
    {
      "cell_type": "code",
      "metadata": {
        "id": "MrWj4ycWuXq_"
      },
      "source": [
        "import numpy as np\n",
        "import matplotlib.pyplot as plt\n",
        "import seaborn as sns\n",
        "from sklearn.mixture import GaussianMixture\n",
        "import pandas as pd\n",
        "from pgmpy.models import BayesianModel\n",
        "import seaborn as sns\n",
        "import bnlearn as bn\n",
        "\n",
        "import io"
      ],
      "execution_count": null,
      "outputs": []
    },
    {
      "cell_type": "code",
      "metadata": {
        "id": "A7zs9Hqtkp-D"
      },
      "source": [
        "from sklearn.cluster import KMeans\n"
      ],
      "execution_count": null,
      "outputs": []
    },
    {
      "cell_type": "code",
      "metadata": {
        "id": "Fj1SYheAuXrC"
      },
      "source": [
        "#spotify_df = pd.read_csv(io.BytesIO(uploaded['data_o.csv']))\n",
        "\n",
        "spotify_df = pd.read_csv('data_o.csv')\n",
        "\n",
        "spotify_df=spotify_df.drop(\"id\",axis=1)"
      ],
      "execution_count": null,
      "outputs": []
    },
    {
      "cell_type": "code",
      "metadata": {
        "id": "PNN1d-X_uXrE",
        "colab": {
          "base_uri": "https://localhost:8080/"
        },
        "outputId": "4319eebe-7376-4074-e4be-d27e93e8576e"
      },
      "source": [
        "spotify_df.info()"
      ],
      "execution_count": null,
      "outputs": [
        {
          "output_type": "stream",
          "name": "stdout",
          "text": [
            "<class 'pandas.core.frame.DataFrame'>\n",
            "RangeIndex: 170653 entries, 0 to 170652\n",
            "Data columns (total 18 columns):\n",
            " #   Column            Non-Null Count   Dtype  \n",
            "---  ------            --------------   -----  \n",
            " 0   valence           170653 non-null  float64\n",
            " 1   year              170653 non-null  int64  \n",
            " 2   acousticness      170653 non-null  float64\n",
            " 3   artists           170653 non-null  object \n",
            " 4   danceability      170653 non-null  float64\n",
            " 5   duration_ms       170653 non-null  int64  \n",
            " 6   energy            170653 non-null  float64\n",
            " 7   explicit          170653 non-null  int64  \n",
            " 8   instrumentalness  170653 non-null  float64\n",
            " 9   key               170653 non-null  int64  \n",
            " 10  liveness          170653 non-null  float64\n",
            " 11  loudness          170653 non-null  float64\n",
            " 12  mode              170653 non-null  int64  \n",
            " 13  name              170653 non-null  object \n",
            " 14  popularity        170653 non-null  int64  \n",
            " 15  release_date      170653 non-null  object \n",
            " 16  speechiness       170653 non-null  float64\n",
            " 17  tempo             170653 non-null  float64\n",
            "dtypes: float64(9), int64(6), object(3)\n",
            "memory usage: 23.4+ MB\n"
          ]
        }
      ]
    },
    {
      "cell_type": "code",
      "metadata": {
        "id": "umFGMqIDSSS8",
        "colab": {
          "base_uri": "https://localhost:8080/",
          "height": 534
        },
        "outputId": "6dc4a997-8855-49b3-ac13-616c0a77e31a"
      },
      "source": [
        "spotify_df.corr()"
      ],
      "execution_count": null,
      "outputs": [
        {
          "output_type": "execute_result",
          "data": {
            "text/html": [
              "<div>\n",
              "<style scoped>\n",
              "    .dataframe tbody tr th:only-of-type {\n",
              "        vertical-align: middle;\n",
              "    }\n",
              "\n",
              "    .dataframe tbody tr th {\n",
              "        vertical-align: top;\n",
              "    }\n",
              "\n",
              "    .dataframe thead th {\n",
              "        text-align: right;\n",
              "    }\n",
              "</style>\n",
              "<table border=\"1\" class=\"dataframe\">\n",
              "  <thead>\n",
              "    <tr style=\"text-align: right;\">\n",
              "      <th></th>\n",
              "      <th>valence</th>\n",
              "      <th>year</th>\n",
              "      <th>acousticness</th>\n",
              "      <th>danceability</th>\n",
              "      <th>duration_ms</th>\n",
              "      <th>energy</th>\n",
              "      <th>explicit</th>\n",
              "      <th>instrumentalness</th>\n",
              "      <th>key</th>\n",
              "      <th>liveness</th>\n",
              "      <th>loudness</th>\n",
              "      <th>mode</th>\n",
              "      <th>popularity</th>\n",
              "      <th>speechiness</th>\n",
              "      <th>tempo</th>\n",
              "    </tr>\n",
              "  </thead>\n",
              "  <tbody>\n",
              "    <tr>\n",
              "      <th>valence</th>\n",
              "      <td>1.000000</td>\n",
              "      <td>-0.028245</td>\n",
              "      <td>-0.184101</td>\n",
              "      <td>0.558946</td>\n",
              "      <td>-0.191813</td>\n",
              "      <td>0.353876</td>\n",
              "      <td>-0.018613</td>\n",
              "      <td>-0.198501</td>\n",
              "      <td>0.028473</td>\n",
              "      <td>0.003832</td>\n",
              "      <td>0.313512</td>\n",
              "      <td>0.015641</td>\n",
              "      <td>0.014200</td>\n",
              "      <td>0.046381</td>\n",
              "      <td>0.171689</td>\n",
              "    </tr>\n",
              "    <tr>\n",
              "      <th>year</th>\n",
              "      <td>-0.028245</td>\n",
              "      <td>1.000000</td>\n",
              "      <td>-0.614250</td>\n",
              "      <td>0.188515</td>\n",
              "      <td>0.079713</td>\n",
              "      <td>0.530272</td>\n",
              "      <td>0.220881</td>\n",
              "      <td>-0.272371</td>\n",
              "      <td>0.007540</td>\n",
              "      <td>-0.057318</td>\n",
              "      <td>0.487697</td>\n",
              "      <td>-0.032385</td>\n",
              "      <td>0.862442</td>\n",
              "      <td>-0.167816</td>\n",
              "      <td>0.141048</td>\n",
              "    </tr>\n",
              "    <tr>\n",
              "      <th>acousticness</th>\n",
              "      <td>-0.184101</td>\n",
              "      <td>-0.614250</td>\n",
              "      <td>1.000000</td>\n",
              "      <td>-0.266852</td>\n",
              "      <td>-0.076373</td>\n",
              "      <td>-0.749393</td>\n",
              "      <td>-0.246007</td>\n",
              "      <td>0.329819</td>\n",
              "      <td>-0.020550</td>\n",
              "      <td>-0.024482</td>\n",
              "      <td>-0.561696</td>\n",
              "      <td>0.047168</td>\n",
              "      <td>-0.573162</td>\n",
              "      <td>-0.043980</td>\n",
              "      <td>-0.207120</td>\n",
              "    </tr>\n",
              "    <tr>\n",
              "      <th>danceability</th>\n",
              "      <td>0.558946</td>\n",
              "      <td>0.188515</td>\n",
              "      <td>-0.266852</td>\n",
              "      <td>1.000000</td>\n",
              "      <td>-0.139937</td>\n",
              "      <td>0.221967</td>\n",
              "      <td>0.241757</td>\n",
              "      <td>-0.278063</td>\n",
              "      <td>0.024439</td>\n",
              "      <td>-0.100193</td>\n",
              "      <td>0.285057</td>\n",
              "      <td>-0.045956</td>\n",
              "      <td>0.199606</td>\n",
              "      <td>0.235491</td>\n",
              "      <td>0.001801</td>\n",
              "    </tr>\n",
              "    <tr>\n",
              "      <th>duration_ms</th>\n",
              "      <td>-0.191813</td>\n",
              "      <td>0.079713</td>\n",
              "      <td>-0.076373</td>\n",
              "      <td>-0.139937</td>\n",
              "      <td>1.000000</td>\n",
              "      <td>0.042119</td>\n",
              "      <td>-0.048880</td>\n",
              "      <td>0.084770</td>\n",
              "      <td>-0.004266</td>\n",
              "      <td>0.047168</td>\n",
              "      <td>-0.003037</td>\n",
              "      <td>-0.046085</td>\n",
              "      <td>0.059597</td>\n",
              "      <td>-0.084604</td>\n",
              "      <td>-0.025472</td>\n",
              "    </tr>\n",
              "    <tr>\n",
              "      <th>energy</th>\n",
              "      <td>0.353876</td>\n",
              "      <td>0.530272</td>\n",
              "      <td>-0.749393</td>\n",
              "      <td>0.221967</td>\n",
              "      <td>0.042119</td>\n",
              "      <td>1.000000</td>\n",
              "      <td>0.132723</td>\n",
              "      <td>-0.281101</td>\n",
              "      <td>0.027705</td>\n",
              "      <td>0.126192</td>\n",
              "      <td>0.782362</td>\n",
              "      <td>-0.039260</td>\n",
              "      <td>0.485005</td>\n",
              "      <td>-0.070555</td>\n",
              "      <td>0.250865</td>\n",
              "    </tr>\n",
              "    <tr>\n",
              "      <th>explicit</th>\n",
              "      <td>-0.018613</td>\n",
              "      <td>0.220881</td>\n",
              "      <td>-0.246007</td>\n",
              "      <td>0.241757</td>\n",
              "      <td>-0.048880</td>\n",
              "      <td>0.132723</td>\n",
              "      <td>1.000000</td>\n",
              "      <td>-0.140987</td>\n",
              "      <td>0.005432</td>\n",
              "      <td>0.039640</td>\n",
              "      <td>0.140300</td>\n",
              "      <td>-0.078872</td>\n",
              "      <td>0.191543</td>\n",
              "      <td>0.414070</td>\n",
              "      <td>0.011969</td>\n",
              "    </tr>\n",
              "    <tr>\n",
              "      <th>instrumentalness</th>\n",
              "      <td>-0.198501</td>\n",
              "      <td>-0.272371</td>\n",
              "      <td>0.329819</td>\n",
              "      <td>-0.278063</td>\n",
              "      <td>0.084770</td>\n",
              "      <td>-0.281101</td>\n",
              "      <td>-0.140987</td>\n",
              "      <td>1.000000</td>\n",
              "      <td>-0.014591</td>\n",
              "      <td>-0.047193</td>\n",
              "      <td>-0.408611</td>\n",
              "      <td>-0.036543</td>\n",
              "      <td>-0.296750</td>\n",
              "      <td>-0.121700</td>\n",
              "      <td>-0.105361</td>\n",
              "    </tr>\n",
              "    <tr>\n",
              "      <th>key</th>\n",
              "      <td>0.028473</td>\n",
              "      <td>0.007540</td>\n",
              "      <td>-0.020550</td>\n",
              "      <td>0.024439</td>\n",
              "      <td>-0.004266</td>\n",
              "      <td>0.027705</td>\n",
              "      <td>0.005432</td>\n",
              "      <td>-0.014591</td>\n",
              "      <td>1.000000</td>\n",
              "      <td>0.000205</td>\n",
              "      <td>0.017385</td>\n",
              "      <td>-0.116260</td>\n",
              "      <td>0.007826</td>\n",
              "      <td>0.023784</td>\n",
              "      <td>0.002629</td>\n",
              "    </tr>\n",
              "    <tr>\n",
              "      <th>liveness</th>\n",
              "      <td>0.003832</td>\n",
              "      <td>-0.057318</td>\n",
              "      <td>-0.024482</td>\n",
              "      <td>-0.100193</td>\n",
              "      <td>0.047168</td>\n",
              "      <td>0.126192</td>\n",
              "      <td>0.039640</td>\n",
              "      <td>-0.047193</td>\n",
              "      <td>0.000205</td>\n",
              "      <td>1.000000</td>\n",
              "      <td>0.056422</td>\n",
              "      <td>0.002641</td>\n",
              "      <td>-0.076464</td>\n",
              "      <td>0.134667</td>\n",
              "      <td>0.007714</td>\n",
              "    </tr>\n",
              "    <tr>\n",
              "      <th>loudness</th>\n",
              "      <td>0.313512</td>\n",
              "      <td>0.487697</td>\n",
              "      <td>-0.561696</td>\n",
              "      <td>0.285057</td>\n",
              "      <td>-0.003037</td>\n",
              "      <td>0.782362</td>\n",
              "      <td>0.140300</td>\n",
              "      <td>-0.408611</td>\n",
              "      <td>0.017385</td>\n",
              "      <td>0.056422</td>\n",
              "      <td>1.000000</td>\n",
              "      <td>-0.010727</td>\n",
              "      <td>0.457051</td>\n",
              "      <td>-0.139296</td>\n",
              "      <td>0.209774</td>\n",
              "    </tr>\n",
              "    <tr>\n",
              "      <th>mode</th>\n",
              "      <td>0.015641</td>\n",
              "      <td>-0.032385</td>\n",
              "      <td>0.047168</td>\n",
              "      <td>-0.045956</td>\n",
              "      <td>-0.046085</td>\n",
              "      <td>-0.039260</td>\n",
              "      <td>-0.078872</td>\n",
              "      <td>-0.036543</td>\n",
              "      <td>-0.116260</td>\n",
              "      <td>0.002641</td>\n",
              "      <td>-0.010727</td>\n",
              "      <td>1.000000</td>\n",
              "      <td>-0.028897</td>\n",
              "      <td>-0.057796</td>\n",
              "      <td>0.011637</td>\n",
              "    </tr>\n",
              "    <tr>\n",
              "      <th>popularity</th>\n",
              "      <td>0.014200</td>\n",
              "      <td>0.862442</td>\n",
              "      <td>-0.573162</td>\n",
              "      <td>0.199606</td>\n",
              "      <td>0.059597</td>\n",
              "      <td>0.485005</td>\n",
              "      <td>0.191543</td>\n",
              "      <td>-0.296750</td>\n",
              "      <td>0.007826</td>\n",
              "      <td>-0.076464</td>\n",
              "      <td>0.457051</td>\n",
              "      <td>-0.028897</td>\n",
              "      <td>1.000000</td>\n",
              "      <td>-0.171979</td>\n",
              "      <td>0.133310</td>\n",
              "    </tr>\n",
              "    <tr>\n",
              "      <th>speechiness</th>\n",
              "      <td>0.046381</td>\n",
              "      <td>-0.167816</td>\n",
              "      <td>-0.043980</td>\n",
              "      <td>0.235491</td>\n",
              "      <td>-0.084604</td>\n",
              "      <td>-0.070555</td>\n",
              "      <td>0.414070</td>\n",
              "      <td>-0.121700</td>\n",
              "      <td>0.023784</td>\n",
              "      <td>0.134667</td>\n",
              "      <td>-0.139296</td>\n",
              "      <td>-0.057796</td>\n",
              "      <td>-0.171979</td>\n",
              "      <td>1.000000</td>\n",
              "      <td>-0.011523</td>\n",
              "    </tr>\n",
              "    <tr>\n",
              "      <th>tempo</th>\n",
              "      <td>0.171689</td>\n",
              "      <td>0.141048</td>\n",
              "      <td>-0.207120</td>\n",
              "      <td>0.001801</td>\n",
              "      <td>-0.025472</td>\n",
              "      <td>0.250865</td>\n",
              "      <td>0.011969</td>\n",
              "      <td>-0.105361</td>\n",
              "      <td>0.002629</td>\n",
              "      <td>0.007714</td>\n",
              "      <td>0.209774</td>\n",
              "      <td>0.011637</td>\n",
              "      <td>0.133310</td>\n",
              "      <td>-0.011523</td>\n",
              "      <td>1.000000</td>\n",
              "    </tr>\n",
              "  </tbody>\n",
              "</table>\n",
              "</div>"
            ],
            "text/plain": [
              "                   valence      year  ...  speechiness     tempo\n",
              "valence           1.000000 -0.028245  ...     0.046381  0.171689\n",
              "year             -0.028245  1.000000  ...    -0.167816  0.141048\n",
              "acousticness     -0.184101 -0.614250  ...    -0.043980 -0.207120\n",
              "danceability      0.558946  0.188515  ...     0.235491  0.001801\n",
              "duration_ms      -0.191813  0.079713  ...    -0.084604 -0.025472\n",
              "energy            0.353876  0.530272  ...    -0.070555  0.250865\n",
              "explicit         -0.018613  0.220881  ...     0.414070  0.011969\n",
              "instrumentalness -0.198501 -0.272371  ...    -0.121700 -0.105361\n",
              "key               0.028473  0.007540  ...     0.023784  0.002629\n",
              "liveness          0.003832 -0.057318  ...     0.134667  0.007714\n",
              "loudness          0.313512  0.487697  ...    -0.139296  0.209774\n",
              "mode              0.015641 -0.032385  ...    -0.057796  0.011637\n",
              "popularity        0.014200  0.862442  ...    -0.171979  0.133310\n",
              "speechiness       0.046381 -0.167816  ...     1.000000 -0.011523\n",
              "tempo             0.171689  0.141048  ...    -0.011523  1.000000\n",
              "\n",
              "[15 rows x 15 columns]"
            ]
          },
          "metadata": {},
          "execution_count": 32
        }
      ]
    },
    {
      "cell_type": "code",
      "metadata": {
        "id": "rk3fAua7gqXX"
      },
      "source": [
        ""
      ],
      "execution_count": null,
      "outputs": []
    },
    {
      "cell_type": "code",
      "metadata": {
        "id": "BVJJSr3NR3hZ"
      },
      "source": [
        "spotify_df=spotify_df.drop([\"year\",  \"duration_ms\", \"explicit\",\"mode\",\"key\",\"popularity\", \"release_date\"],axis=1)\n"
      ],
      "execution_count": null,
      "outputs": []
    },
    {
      "cell_type": "code",
      "metadata": {
        "id": "3hKyEFSLUd-x",
        "colab": {
          "base_uri": "https://localhost:8080/"
        },
        "outputId": "2b17fa8c-9ea3-4aea-d74b-82e391c20c31"
      },
      "source": [
        "spotify_df.info()"
      ],
      "execution_count": null,
      "outputs": [
        {
          "output_type": "stream",
          "name": "stdout",
          "text": [
            "<class 'pandas.core.frame.DataFrame'>\n",
            "RangeIndex: 170653 entries, 0 to 170652\n",
            "Data columns (total 11 columns):\n",
            " #   Column            Non-Null Count   Dtype  \n",
            "---  ------            --------------   -----  \n",
            " 0   valence           170653 non-null  float64\n",
            " 1   acousticness      170653 non-null  float64\n",
            " 2   artists           170653 non-null  object \n",
            " 3   danceability      170653 non-null  float64\n",
            " 4   energy            170653 non-null  float64\n",
            " 5   instrumentalness  170653 non-null  float64\n",
            " 6   liveness          170653 non-null  float64\n",
            " 7   loudness          170653 non-null  float64\n",
            " 8   name              170653 non-null  object \n",
            " 9   speechiness       170653 non-null  float64\n",
            " 10  tempo             170653 non-null  float64\n",
            "dtypes: float64(9), object(2)\n",
            "memory usage: 14.3+ MB\n"
          ]
        }
      ]
    },
    {
      "cell_type": "code",
      "metadata": {
        "id": "ntBxH9hRkCHD",
        "colab": {
          "base_uri": "https://localhost:8080/",
          "height": 428
        },
        "outputId": "74204d80-35cc-4629-9bb2-9b20a88d4b5e"
      },
      "source": [
        "x_train=((spotify_df[150000:160001]).reset_index()).drop([\"index\"], axis =1)\n",
        "x_test=spotify_df[160001:]\n",
        "\n",
        "x_train.head()"
      ],
      "execution_count": null,
      "outputs": [
        {
          "output_type": "execute_result",
          "data": {
            "text/html": [
              "<div>\n",
              "<style scoped>\n",
              "    .dataframe tbody tr th:only-of-type {\n",
              "        vertical-align: middle;\n",
              "    }\n",
              "\n",
              "    .dataframe tbody tr th {\n",
              "        vertical-align: top;\n",
              "    }\n",
              "\n",
              "    .dataframe thead th {\n",
              "        text-align: right;\n",
              "    }\n",
              "</style>\n",
              "<table border=\"1\" class=\"dataframe\">\n",
              "  <thead>\n",
              "    <tr style=\"text-align: right;\">\n",
              "      <th></th>\n",
              "      <th>valence</th>\n",
              "      <th>acousticness</th>\n",
              "      <th>artists</th>\n",
              "      <th>danceability</th>\n",
              "      <th>energy</th>\n",
              "      <th>instrumentalness</th>\n",
              "      <th>liveness</th>\n",
              "      <th>loudness</th>\n",
              "      <th>name</th>\n",
              "      <th>speechiness</th>\n",
              "      <th>tempo</th>\n",
              "    </tr>\n",
              "  </thead>\n",
              "  <tbody>\n",
              "    <tr>\n",
              "      <th>0</th>\n",
              "      <td>0.6520</td>\n",
              "      <td>0.280000</td>\n",
              "      <td>['Tom Petty and the Heartbreakers']</td>\n",
              "      <td>0.703</td>\n",
              "      <td>0.536</td>\n",
              "      <td>0.000000</td>\n",
              "      <td>0.1700</td>\n",
              "      <td>-10.523</td>\n",
              "      <td>Built To Last</td>\n",
              "      <td>0.0271</td>\n",
              "      <td>110.946</td>\n",
              "    </tr>\n",
              "    <tr>\n",
              "      <th>1</th>\n",
              "      <td>0.4570</td>\n",
              "      <td>0.864000</td>\n",
              "      <td>['Francisco Tárrega', 'Julian Bream']</td>\n",
              "      <td>0.196</td>\n",
              "      <td>0.211</td>\n",
              "      <td>0.836000</td>\n",
              "      <td>0.0936</td>\n",
              "      <td>-24.619</td>\n",
              "      <td>Recuerdos de la Alhambra</td>\n",
              "      <td>0.0435</td>\n",
              "      <td>148.681</td>\n",
              "    </tr>\n",
              "    <tr>\n",
              "      <th>2</th>\n",
              "      <td>0.0642</td>\n",
              "      <td>0.000256</td>\n",
              "      <td>['Nirvana']</td>\n",
              "      <td>0.271</td>\n",
              "      <td>0.959</td>\n",
              "      <td>0.854000</td>\n",
              "      <td>0.0858</td>\n",
              "      <td>-5.866</td>\n",
              "      <td>Endless, Nameless</td>\n",
              "      <td>0.1250</td>\n",
              "      <td>131.846</td>\n",
              "    </tr>\n",
              "    <tr>\n",
              "      <th>3</th>\n",
              "      <td>0.1190</td>\n",
              "      <td>0.745000</td>\n",
              "      <td>['Manuel &amp; The Music Of The Mountains']</td>\n",
              "      <td>0.228</td>\n",
              "      <td>0.346</td>\n",
              "      <td>0.881000</td>\n",
              "      <td>0.1850</td>\n",
              "      <td>-10.995</td>\n",
              "      <td>Moonglow and Theme from Picnic</td>\n",
              "      <td>0.0309</td>\n",
              "      <td>81.718</td>\n",
              "    </tr>\n",
              "    <tr>\n",
              "      <th>4</th>\n",
              "      <td>0.7420</td>\n",
              "      <td>0.004280</td>\n",
              "      <td>['Rod Stewart']</td>\n",
              "      <td>0.619</td>\n",
              "      <td>0.956</td>\n",
              "      <td>0.000035</td>\n",
              "      <td>0.0604</td>\n",
              "      <td>-6.886</td>\n",
              "      <td>It Takes Two - 2008 Remaster</td>\n",
              "      <td>0.0648</td>\n",
              "      <td>141.221</td>\n",
              "    </tr>\n",
              "  </tbody>\n",
              "</table>\n",
              "</div>"
            ],
            "text/plain": [
              "   valence  acousticness  ... speechiness    tempo\n",
              "0   0.6520      0.280000  ...      0.0271  110.946\n",
              "1   0.4570      0.864000  ...      0.0435  148.681\n",
              "2   0.0642      0.000256  ...      0.1250  131.846\n",
              "3   0.1190      0.745000  ...      0.0309   81.718\n",
              "4   0.7420      0.004280  ...      0.0648  141.221\n",
              "\n",
              "[5 rows x 11 columns]"
            ]
          },
          "metadata": {},
          "execution_count": 35
        }
      ]
    },
    {
      "cell_type": "code",
      "metadata": {
        "id": "2BEFkQthkU2J"
      },
      "source": [
        "x_trainC=x_train.iloc[:,[0,1,3,4,5,6,7,9,10]]\n",
        "cols=x_trainC.columns"
      ],
      "execution_count": null,
      "outputs": []
    },
    {
      "cell_type": "code",
      "metadata": {
        "id": "ZzcxN7f0dZV2",
        "colab": {
          "base_uri": "https://localhost:8080/",
          "height": 224
        },
        "outputId": "1fed7065-8eae-4733-e5aa-66d34b77cf3c"
      },
      "source": [
        "\n",
        "x_trainC.head()"
      ],
      "execution_count": null,
      "outputs": [
        {
          "output_type": "execute_result",
          "data": {
            "text/html": [
              "<div>\n",
              "<style scoped>\n",
              "    .dataframe tbody tr th:only-of-type {\n",
              "        vertical-align: middle;\n",
              "    }\n",
              "\n",
              "    .dataframe tbody tr th {\n",
              "        vertical-align: top;\n",
              "    }\n",
              "\n",
              "    .dataframe thead th {\n",
              "        text-align: right;\n",
              "    }\n",
              "</style>\n",
              "<table border=\"1\" class=\"dataframe\">\n",
              "  <thead>\n",
              "    <tr style=\"text-align: right;\">\n",
              "      <th></th>\n",
              "      <th>valence</th>\n",
              "      <th>acousticness</th>\n",
              "      <th>danceability</th>\n",
              "      <th>energy</th>\n",
              "      <th>instrumentalness</th>\n",
              "      <th>liveness</th>\n",
              "      <th>loudness</th>\n",
              "      <th>speechiness</th>\n",
              "      <th>tempo</th>\n",
              "    </tr>\n",
              "  </thead>\n",
              "  <tbody>\n",
              "    <tr>\n",
              "      <th>0</th>\n",
              "      <td>0.6520</td>\n",
              "      <td>0.280000</td>\n",
              "      <td>0.703</td>\n",
              "      <td>0.536</td>\n",
              "      <td>0.000000</td>\n",
              "      <td>0.1700</td>\n",
              "      <td>-10.523</td>\n",
              "      <td>0.0271</td>\n",
              "      <td>110.946</td>\n",
              "    </tr>\n",
              "    <tr>\n",
              "      <th>1</th>\n",
              "      <td>0.4570</td>\n",
              "      <td>0.864000</td>\n",
              "      <td>0.196</td>\n",
              "      <td>0.211</td>\n",
              "      <td>0.836000</td>\n",
              "      <td>0.0936</td>\n",
              "      <td>-24.619</td>\n",
              "      <td>0.0435</td>\n",
              "      <td>148.681</td>\n",
              "    </tr>\n",
              "    <tr>\n",
              "      <th>2</th>\n",
              "      <td>0.0642</td>\n",
              "      <td>0.000256</td>\n",
              "      <td>0.271</td>\n",
              "      <td>0.959</td>\n",
              "      <td>0.854000</td>\n",
              "      <td>0.0858</td>\n",
              "      <td>-5.866</td>\n",
              "      <td>0.1250</td>\n",
              "      <td>131.846</td>\n",
              "    </tr>\n",
              "    <tr>\n",
              "      <th>3</th>\n",
              "      <td>0.1190</td>\n",
              "      <td>0.745000</td>\n",
              "      <td>0.228</td>\n",
              "      <td>0.346</td>\n",
              "      <td>0.881000</td>\n",
              "      <td>0.1850</td>\n",
              "      <td>-10.995</td>\n",
              "      <td>0.0309</td>\n",
              "      <td>81.718</td>\n",
              "    </tr>\n",
              "    <tr>\n",
              "      <th>4</th>\n",
              "      <td>0.7420</td>\n",
              "      <td>0.004280</td>\n",
              "      <td>0.619</td>\n",
              "      <td>0.956</td>\n",
              "      <td>0.000035</td>\n",
              "      <td>0.0604</td>\n",
              "      <td>-6.886</td>\n",
              "      <td>0.0648</td>\n",
              "      <td>141.221</td>\n",
              "    </tr>\n",
              "  </tbody>\n",
              "</table>\n",
              "</div>"
            ],
            "text/plain": [
              "   valence  acousticness  danceability  ...  loudness  speechiness    tempo\n",
              "0   0.6520      0.280000         0.703  ...   -10.523       0.0271  110.946\n",
              "1   0.4570      0.864000         0.196  ...   -24.619       0.0435  148.681\n",
              "2   0.0642      0.000256         0.271  ...    -5.866       0.1250  131.846\n",
              "3   0.1190      0.745000         0.228  ...   -10.995       0.0309   81.718\n",
              "4   0.7420      0.004280         0.619  ...    -6.886       0.0648  141.221\n",
              "\n",
              "[5 rows x 9 columns]"
            ]
          },
          "metadata": {},
          "execution_count": 37
        }
      ]
    },
    {
      "cell_type": "code",
      "metadata": {
        "id": "zhMDLOpul9SJ"
      },
      "source": [
        "# data preprocessing\n",
        "from sklearn.preprocessing import MinMaxScaler\n",
        "scaler = MinMaxScaler()"
      ],
      "execution_count": null,
      "outputs": []
    },
    {
      "cell_type": "code",
      "metadata": {
        "id": "gY3-9-b-mB6U"
      },
      "source": [
        "scaled = pd.DataFrame(scaler.fit_transform(x_trainC))\n",
        "scaled.columns = cols"
      ],
      "execution_count": null,
      "outputs": []
    },
    {
      "cell_type": "code",
      "metadata": {
        "id": "0W8xjrPGm5ko",
        "colab": {
          "base_uri": "https://localhost:8080/",
          "height": 224
        },
        "outputId": "7be6cb71-74fe-4b8e-b585-866e2b305ab9"
      },
      "source": [
        "scaled.head()"
      ],
      "execution_count": null,
      "outputs": [
        {
          "output_type": "execute_result",
          "data": {
            "text/html": [
              "<div>\n",
              "<style scoped>\n",
              "    .dataframe tbody tr th:only-of-type {\n",
              "        vertical-align: middle;\n",
              "    }\n",
              "\n",
              "    .dataframe tbody tr th {\n",
              "        vertical-align: top;\n",
              "    }\n",
              "\n",
              "    .dataframe thead th {\n",
              "        text-align: right;\n",
              "    }\n",
              "</style>\n",
              "<table border=\"1\" class=\"dataframe\">\n",
              "  <thead>\n",
              "    <tr style=\"text-align: right;\">\n",
              "      <th></th>\n",
              "      <th>valence</th>\n",
              "      <th>acousticness</th>\n",
              "      <th>danceability</th>\n",
              "      <th>energy</th>\n",
              "      <th>instrumentalness</th>\n",
              "      <th>liveness</th>\n",
              "      <th>loudness</th>\n",
              "      <th>speechiness</th>\n",
              "      <th>tempo</th>\n",
              "    </tr>\n",
              "  </thead>\n",
              "  <tbody>\n",
              "    <tr>\n",
              "      <th>0</th>\n",
              "      <td>0.655936</td>\n",
              "      <td>0.281124</td>\n",
              "      <td>0.715158</td>\n",
              "      <td>0.536537</td>\n",
              "      <td>0.000000</td>\n",
              "      <td>0.170854</td>\n",
              "      <td>0.804727</td>\n",
              "      <td>0.027967</td>\n",
              "      <td>0.507913</td>\n",
              "    </tr>\n",
              "    <tr>\n",
              "      <th>1</th>\n",
              "      <td>0.459759</td>\n",
              "      <td>0.867470</td>\n",
              "      <td>0.199390</td>\n",
              "      <td>0.211211</td>\n",
              "      <td>0.836000</td>\n",
              "      <td>0.094070</td>\n",
              "      <td>0.575460</td>\n",
              "      <td>0.044892</td>\n",
              "      <td>0.680665</td>\n",
              "    </tr>\n",
              "    <tr>\n",
              "      <th>2</th>\n",
              "      <td>0.064588</td>\n",
              "      <td>0.000257</td>\n",
              "      <td>0.275687</td>\n",
              "      <td>0.959960</td>\n",
              "      <td>0.854000</td>\n",
              "      <td>0.086231</td>\n",
              "      <td>0.880471</td>\n",
              "      <td>0.128999</td>\n",
              "      <td>0.603594</td>\n",
              "    </tr>\n",
              "    <tr>\n",
              "      <th>3</th>\n",
              "      <td>0.119718</td>\n",
              "      <td>0.747992</td>\n",
              "      <td>0.231943</td>\n",
              "      <td>0.346346</td>\n",
              "      <td>0.881000</td>\n",
              "      <td>0.185930</td>\n",
              "      <td>0.797050</td>\n",
              "      <td>0.031889</td>\n",
              "      <td>0.374107</td>\n",
              "    </tr>\n",
              "    <tr>\n",
              "      <th>4</th>\n",
              "      <td>0.746479</td>\n",
              "      <td>0.004297</td>\n",
              "      <td>0.629705</td>\n",
              "      <td>0.956957</td>\n",
              "      <td>0.000035</td>\n",
              "      <td>0.060704</td>\n",
              "      <td>0.863881</td>\n",
              "      <td>0.066873</td>\n",
              "      <td>0.646513</td>\n",
              "    </tr>\n",
              "  </tbody>\n",
              "</table>\n",
              "</div>"
            ],
            "text/plain": [
              "    valence  acousticness  danceability  ...  loudness  speechiness     tempo\n",
              "0  0.655936      0.281124      0.715158  ...  0.804727     0.027967  0.507913\n",
              "1  0.459759      0.867470      0.199390  ...  0.575460     0.044892  0.680665\n",
              "2  0.064588      0.000257      0.275687  ...  0.880471     0.128999  0.603594\n",
              "3  0.119718      0.747992      0.231943  ...  0.797050     0.031889  0.374107\n",
              "4  0.746479      0.004297      0.629705  ...  0.863881     0.066873  0.646513\n",
              "\n",
              "[5 rows x 9 columns]"
            ]
          },
          "metadata": {},
          "execution_count": 40
        }
      ]
    },
    {
      "cell_type": "code",
      "metadata": {
        "id": "5PW5N8UtnEAb"
      },
      "source": [
        "scaled= scaler.fit_transform(x_trainC)"
      ],
      "execution_count": null,
      "outputs": []
    },
    {
      "cell_type": "code",
      "metadata": {
        "id": "dvLo4sDYIVPN"
      },
      "source": [
        ""
      ],
      "execution_count": null,
      "outputs": []
    },
    {
      "cell_type": "code",
      "metadata": {
        "id": "ydZWuMPAIfy8"
      },
      "source": [
        ""
      ],
      "execution_count": null,
      "outputs": []
    },
    {
      "cell_type": "markdown",
      "metadata": {
        "id": "_ey3ObiGbjK-"
      },
      "source": [
        "GMM Model"
      ]
    },
    {
      "cell_type": "code",
      "metadata": {
        "id": "XO-DOGA1BSdd"
      },
      "source": [
        ""
      ],
      "execution_count": null,
      "outputs": []
    },
    {
      "cell_type": "markdown",
      "metadata": {
        "id": "MSrYLQuSAr7t"
      },
      "source": [
        "Silhouette Score"
      ]
    },
    {
      "cell_type": "code",
      "metadata": {
        "id": "nTjOgLhJAWlC"
      },
      "source": [
        "from sklearn.metrics import silhouette_score "
      ],
      "execution_count": null,
      "outputs": []
    },
    {
      "cell_type": "code",
      "metadata": {
        "id": "tgu6hmTHAWoB"
      },
      "source": [
        "n_components = range(2, 40)\n",
        "covariance_type = ['spherical', 'tied', 'diag', 'full']\n",
        "score=[]\n",
        "for cov in covariance_type:\n",
        "    for n_comp in n_components:\n",
        "        gmm=GaussianMixture(n_components=n_comp,covariance_type=cov,random_state = 10)\n",
        "        model = gmm.fit(scaled)\n",
        "        model_2 = model.predict(scaled)\n",
        "        score_s = silhouette_score(scaled, model_2, metric='euclidean')\n",
        "        score.append((cov,n_comp,score_s))\n",
        "score_1 = pd.DataFrame(score)\n",
        "score_1.columns = ['Covariance_Type', 'N_Components','Silhouette_Score']\n",
        "score_2 = score_1[score_1.Silhouette_Score == score_1.Silhouette_Score.max()]\n"
      ],
      "execution_count": null,
      "outputs": []
    },
    {
      "cell_type": "code",
      "metadata": {
        "id": "O89VyLTRAiO-",
        "colab": {
          "base_uri": "https://localhost:8080/",
          "height": 406
        },
        "outputId": "9294f734-53d9-48e2-c7b9-cc69bf650126"
      },
      "source": [
        "score_1"
      ],
      "execution_count": null,
      "outputs": [
        {
          "output_type": "execute_result",
          "data": {
            "text/html": [
              "<div>\n",
              "<style scoped>\n",
              "    .dataframe tbody tr th:only-of-type {\n",
              "        vertical-align: middle;\n",
              "    }\n",
              "\n",
              "    .dataframe tbody tr th {\n",
              "        vertical-align: top;\n",
              "    }\n",
              "\n",
              "    .dataframe thead th {\n",
              "        text-align: right;\n",
              "    }\n",
              "</style>\n",
              "<table border=\"1\" class=\"dataframe\">\n",
              "  <thead>\n",
              "    <tr style=\"text-align: right;\">\n",
              "      <th></th>\n",
              "      <th>Covariance_Type</th>\n",
              "      <th>N_Components</th>\n",
              "      <th>Silhouette_Score</th>\n",
              "    </tr>\n",
              "  </thead>\n",
              "  <tbody>\n",
              "    <tr>\n",
              "      <th>0</th>\n",
              "      <td>spherical</td>\n",
              "      <td>2</td>\n",
              "      <td>0.304859</td>\n",
              "    </tr>\n",
              "    <tr>\n",
              "      <th>1</th>\n",
              "      <td>spherical</td>\n",
              "      <td>3</td>\n",
              "      <td>0.312662</td>\n",
              "    </tr>\n",
              "    <tr>\n",
              "      <th>2</th>\n",
              "      <td>spherical</td>\n",
              "      <td>4</td>\n",
              "      <td>0.322343</td>\n",
              "    </tr>\n",
              "    <tr>\n",
              "      <th>3</th>\n",
              "      <td>spherical</td>\n",
              "      <td>5</td>\n",
              "      <td>0.262016</td>\n",
              "    </tr>\n",
              "    <tr>\n",
              "      <th>4</th>\n",
              "      <td>spherical</td>\n",
              "      <td>6</td>\n",
              "      <td>0.258946</td>\n",
              "    </tr>\n",
              "    <tr>\n",
              "      <th>...</th>\n",
              "      <td>...</td>\n",
              "      <td>...</td>\n",
              "      <td>...</td>\n",
              "    </tr>\n",
              "    <tr>\n",
              "      <th>147</th>\n",
              "      <td>full</td>\n",
              "      <td>35</td>\n",
              "      <td>-0.076587</td>\n",
              "    </tr>\n",
              "    <tr>\n",
              "      <th>148</th>\n",
              "      <td>full</td>\n",
              "      <td>36</td>\n",
              "      <td>-0.085922</td>\n",
              "    </tr>\n",
              "    <tr>\n",
              "      <th>149</th>\n",
              "      <td>full</td>\n",
              "      <td>37</td>\n",
              "      <td>-0.072010</td>\n",
              "    </tr>\n",
              "    <tr>\n",
              "      <th>150</th>\n",
              "      <td>full</td>\n",
              "      <td>38</td>\n",
              "      <td>-0.082621</td>\n",
              "    </tr>\n",
              "    <tr>\n",
              "      <th>151</th>\n",
              "      <td>full</td>\n",
              "      <td>39</td>\n",
              "      <td>-0.072415</td>\n",
              "    </tr>\n",
              "  </tbody>\n",
              "</table>\n",
              "<p>152 rows × 3 columns</p>\n",
              "</div>"
            ],
            "text/plain": [
              "    Covariance_Type  N_Components  Silhouette_Score\n",
              "0         spherical             2          0.304859\n",
              "1         spherical             3          0.312662\n",
              "2         spherical             4          0.322343\n",
              "3         spherical             5          0.262016\n",
              "4         spherical             6          0.258946\n",
              "..              ...           ...               ...\n",
              "147            full            35         -0.076587\n",
              "148            full            36         -0.085922\n",
              "149            full            37         -0.072010\n",
              "150            full            38         -0.082621\n",
              "151            full            39         -0.072415\n",
              "\n",
              "[152 rows x 3 columns]"
            ]
          },
          "metadata": {},
          "execution_count": 44
        }
      ]
    },
    {
      "cell_type": "code",
      "metadata": {
        "id": "qyQn0sSuNY49",
        "colab": {
          "base_uri": "https://localhost:8080/",
          "height": 77
        },
        "outputId": "622fe895-d5ff-423e-adc4-8376c0a4aa27"
      },
      "source": [
        "score_2"
      ],
      "execution_count": null,
      "outputs": [
        {
          "output_type": "execute_result",
          "data": {
            "text/html": [
              "<div>\n",
              "<style scoped>\n",
              "    .dataframe tbody tr th:only-of-type {\n",
              "        vertical-align: middle;\n",
              "    }\n",
              "\n",
              "    .dataframe tbody tr th {\n",
              "        vertical-align: top;\n",
              "    }\n",
              "\n",
              "    .dataframe thead th {\n",
              "        text-align: right;\n",
              "    }\n",
              "</style>\n",
              "<table border=\"1\" class=\"dataframe\">\n",
              "  <thead>\n",
              "    <tr style=\"text-align: right;\">\n",
              "      <th></th>\n",
              "      <th>Covariance_Type</th>\n",
              "      <th>N_Components</th>\n",
              "      <th>Silhouette_Score</th>\n",
              "    </tr>\n",
              "  </thead>\n",
              "  <tbody>\n",
              "    <tr>\n",
              "      <th>2</th>\n",
              "      <td>spherical</td>\n",
              "      <td>4</td>\n",
              "      <td>0.322343</td>\n",
              "    </tr>\n",
              "  </tbody>\n",
              "</table>\n",
              "</div>"
            ],
            "text/plain": [
              "  Covariance_Type  N_Components  Silhouette_Score\n",
              "2       spherical             4          0.322343"
            ]
          },
          "metadata": {},
          "execution_count": 45
        }
      ]
    },
    {
      "cell_type": "code",
      "metadata": {
        "id": "BlSGOrB_5FpF",
        "colab": {
          "base_uri": "https://localhost:8080/",
          "height": 313
        },
        "outputId": "093cd53f-280a-44f9-fa6b-a7d9ade83267"
      },
      "source": [
        "sns.lineplot(data=score_1,x=\"N_Components\", y=\"Silhouette_Score\").set_title(\"Silhouette Score of different number of GMM Components\")"
      ],
      "execution_count": null,
      "outputs": [
        {
          "output_type": "execute_result",
          "data": {
            "text/plain": [
              "Text(0.5, 1.0, 'Silhouette Score of different number of GMM Components')"
            ]
          },
          "metadata": {},
          "execution_count": 46
        },
        {
          "output_type": "display_data",
          "data": {
            "image/png": "[encoded data removed]",
            "text/plain": [
              "<Figure size 432x288 with 1 Axes>"
            ]
          },
          "metadata": {
            "needs_background": "light"
          }
        }
      ]
    },
    {
      "cell_type": "code",
      "metadata": {
        "id": "T6dthxkRcuAx"
      },
      "source": [
        ""
      ],
      "execution_count": null,
      "outputs": []
    },
    {
      "cell_type": "markdown",
      "metadata": {
        "id": "8Kv4afePBgWL"
      },
      "source": [
        "Now let's apply suggested clusters"
      ]
    },
    {
      "cell_type": "code",
      "metadata": {
        "id": "0SOI8aYNb2hd"
      },
      "source": [
        "gmm = GaussianMixture(4, \n",
        "                     covariance_type='spherical', \n",
        "                     random_state=0).fit(scaled)\n",
        "#plt.scatter(x_train[:, 0], x_train[:, 1], c=labels, s=40, cmap='viridis');\n",
        "\n"
      ],
      "execution_count": null,
      "outputs": []
    },
    {
      "cell_type": "code",
      "metadata": {
        "id": "1tO7NvT9zPE5",
        "colab": {
          "base_uri": "https://localhost:8080/"
        },
        "outputId": "f7efdb51-d32b-49c9-a713-c32c82dfd164"
      },
      "source": [
        "labels = gmm.predict(scaled)\n",
        "labels"
      ],
      "execution_count": null,
      "outputs": [
        {
          "output_type": "execute_result",
          "data": {
            "text/plain": [
              "array([3, 2, 0, ..., 3, 1, 0])"
            ]
          },
          "metadata": {},
          "execution_count": 48
        }
      ]
    },
    {
      "cell_type": "code",
      "metadata": {
        "id": "EWIGyugxBSlI"
      },
      "source": [
        ""
      ],
      "execution_count": null,
      "outputs": []
    },
    {
      "cell_type": "code",
      "metadata": {
        "id": "MwrxMPL-rNz2",
        "colab": {
          "base_uri": "https://localhost:8080/",
          "height": 215
        },
        "outputId": "f77ec338-1922-454b-c3a4-c1a9adbea8ce"
      },
      "source": [
        "# converting preditcions into a df\n",
        "gmmL = pd.DataFrame(data=labels, dtype=int)\n",
        "gmmL.columns = ['GMM_Cluster']\n",
        "\n",
        "# predictions as a df\n",
        "print(gmmL.shape)\n",
        "gmmL.tail()"
      ],
      "execution_count": null,
      "outputs": [
        {
          "output_type": "stream",
          "name": "stdout",
          "text": [
            "(10001, 1)\n"
          ]
        },
        {
          "output_type": "execute_result",
          "data": {
            "text/html": [
              "<div>\n",
              "<style scoped>\n",
              "    .dataframe tbody tr th:only-of-type {\n",
              "        vertical-align: middle;\n",
              "    }\n",
              "\n",
              "    .dataframe tbody tr th {\n",
              "        vertical-align: top;\n",
              "    }\n",
              "\n",
              "    .dataframe thead th {\n",
              "        text-align: right;\n",
              "    }\n",
              "</style>\n",
              "<table border=\"1\" class=\"dataframe\">\n",
              "  <thead>\n",
              "    <tr style=\"text-align: right;\">\n",
              "      <th></th>\n",
              "      <th>GMM_Cluster</th>\n",
              "    </tr>\n",
              "  </thead>\n",
              "  <tbody>\n",
              "    <tr>\n",
              "      <th>9996</th>\n",
              "      <td>3</td>\n",
              "    </tr>\n",
              "    <tr>\n",
              "      <th>9997</th>\n",
              "      <td>1</td>\n",
              "    </tr>\n",
              "    <tr>\n",
              "      <th>9998</th>\n",
              "      <td>3</td>\n",
              "    </tr>\n",
              "    <tr>\n",
              "      <th>9999</th>\n",
              "      <td>1</td>\n",
              "    </tr>\n",
              "    <tr>\n",
              "      <th>10000</th>\n",
              "      <td>0</td>\n",
              "    </tr>\n",
              "  </tbody>\n",
              "</table>\n",
              "</div>"
            ],
            "text/plain": [
              "       GMM_Cluster\n",
              "9996             3\n",
              "9997             1\n",
              "9998             3\n",
              "9999             1\n",
              "10000            0"
            ]
          },
          "metadata": {},
          "execution_count": 49
        }
      ]
    },
    {
      "cell_type": "code",
      "metadata": {
        "id": "AWrVzvrJ_wyT",
        "colab": {
          "base_uri": "https://localhost:8080/"
        },
        "outputId": "15cc9e2d-3907-4004-8b45-83cc45a67406"
      },
      "source": [
        "x_trainC.shape"
      ],
      "execution_count": null,
      "outputs": [
        {
          "output_type": "execute_result",
          "data": {
            "text/plain": [
              "(10001, 9)"
            ]
          },
          "metadata": {},
          "execution_count": 50
        }
      ]
    },
    {
      "cell_type": "code",
      "metadata": {
        "id": "AyQQinw2g4R8"
      },
      "source": [
        "x_trainC[\"GMM_Clusters\"] =gmmL[\"GMM_Cluster\"]"
      ],
      "execution_count": null,
      "outputs": []
    },
    {
      "cell_type": "code",
      "metadata": {
        "id": "wyb-QhnpzEpo",
        "colab": {
          "base_uri": "https://localhost:8080/",
          "height": 667
        },
        "outputId": "5ac269b1-2364-46a6-ed63-e3dfe9ffbcf7"
      },
      "source": [
        "fig, ax = plt.subplots(figsize=(13,11))\n",
        "ax = fig.add_subplot(111, projection='3d')\n",
        "\n",
        "plt.scatter(scaled[labels == 0,0],scaled[labels == 0,1], s= 50, label= 'Cluster 1')\n",
        "plt.scatter(scaled[labels == 1,0], scaled[labels == 1,1], s= 50,  label= 'Cluster 2')\n",
        "plt.scatter(scaled[labels == 2,0], scaled[labels == 2,1], s= 50, label= 'Cluster 3')\n",
        "plt.scatter(scaled[labels == 3,0], scaled[labels == 3,1], s= 50,  label= 'Cluster 4')\n"
      ],
      "execution_count": null,
      "outputs": [
        {
          "output_type": "execute_result",
          "data": {
            "text/plain": [
              "<mpl_toolkits.mplot3d.art3d.Path3DCollection at 0x7f4f9d306a50>"
            ]
          },
          "metadata": {},
          "execution_count": 53
        },
        {
          "output_type": "display_data",
          "data": {
            "image/png": "[encoded data removed]",
            "text/plain": [
              "<Figure size 936x792 with 2 Axes>"
            ]
          },
          "metadata": {
            "needs_background": "light"
          }
        }
      ]
    },
    {
      "cell_type": "code",
      "metadata": {
        "id": "Jx8vJDJE40j-"
      },
      "source": [
        ""
      ],
      "execution_count": null,
      "outputs": []
    },
    {
      "cell_type": "code",
      "metadata": {
        "id": "JzevDLae76eB"
      },
      "source": [
        ""
      ],
      "execution_count": null,
      "outputs": []
    },
    {
      "cell_type": "markdown",
      "metadata": {
        "id": "UnMASbR8RNsy"
      },
      "source": [
        "Accuracy"
      ]
    },
    {
      "cell_type": "markdown",
      "metadata": {
        "id": "lh-DjNQBASbv"
      },
      "source": [
        "BIC Score"
      ]
    },
    {
      "cell_type": "code",
      "metadata": {
        "id": "XwyKU8vFbkOf"
      },
      "source": [
        "scoreB = []\n",
        "gmm=GaussianMixture(n_components=4,covariance_type='spherical', random_state = 0)\n",
        "gmm.fit(scaled)\n",
        "scoreB.append((cov,4,gmm.bic(scaled)))\n",
        "score_1B = pd.DataFrame(scoreB)\n",
        "score_1B.columns = ['Covariance_Type', 'N_Components','BIC_Score']\n",
        "\n"
      ],
      "execution_count": null,
      "outputs": []
    },
    {
      "cell_type": "code",
      "metadata": {
        "id": "S8LFmIj553wt",
        "colab": {
          "base_uri": "https://localhost:8080/",
          "height": 77
        },
        "outputId": "4e4ce475-f8af-4466-a5e5-b3dd874d1b66"
      },
      "source": [
        "score_1B"
      ],
      "execution_count": null,
      "outputs": [
        {
          "output_type": "execute_result",
          "data": {
            "text/html": [
              "<div>\n",
              "<style scoped>\n",
              "    .dataframe tbody tr th:only-of-type {\n",
              "        vertical-align: middle;\n",
              "    }\n",
              "\n",
              "    .dataframe tbody tr th {\n",
              "        vertical-align: top;\n",
              "    }\n",
              "\n",
              "    .dataframe thead th {\n",
              "        text-align: right;\n",
              "    }\n",
              "</style>\n",
              "<table border=\"1\" class=\"dataframe\">\n",
              "  <thead>\n",
              "    <tr style=\"text-align: right;\">\n",
              "      <th></th>\n",
              "      <th>Covariance_Type</th>\n",
              "      <th>N_Components</th>\n",
              "      <th>BIC_Score</th>\n",
              "    </tr>\n",
              "  </thead>\n",
              "  <tbody>\n",
              "    <tr>\n",
              "      <th>0</th>\n",
              "      <td>full</td>\n",
              "      <td>4</td>\n",
              "      <td>-48558.203272</td>\n",
              "    </tr>\n",
              "  </tbody>\n",
              "</table>\n",
              "</div>"
            ],
            "text/plain": [
              "  Covariance_Type  N_Components     BIC_Score\n",
              "0            full             4 -48558.203272"
            ]
          },
          "metadata": {},
          "execution_count": 66
        }
      ]
    },
    {
      "cell_type": "markdown",
      "metadata": {
        "id": "YsNUh3Wv4Tsq"
      },
      "source": [
        "K-Means"
      ]
    },
    {
      "cell_type": "code",
      "metadata": {
        "id": "bMPbHnf7-4ja"
      },
      "source": [
        "#KMeans\n",
        "#Silhouette Score\n",
        "n_components = range(2, 30)\n",
        "covariance_type = ['spherical', 'tied', 'diag', 'full']\n",
        "score=[]\n",
        "for cov in covariance_type:\n",
        "    for n_comp in n_components:\n",
        "        kmeans = KMeans(n_comp)\n",
        "        kmeans.fit(scaled)\n",
        "        pred = kmeans.predict(scaled)\n",
        "        score_s = silhouette_score(scaled, pred, metric='euclidean')\n",
        "        score.append((cov,n_comp,score_s))\n",
        "score_1 = pd.DataFrame(score)\n",
        "score_1.columns = ['Covariance_Type', 'N_Components','Silhouette_Score']\n",
        "score_2 = score_1[score_1.Silhouette_Score == score_1.Silhouette_Score.max()]\n"
      ],
      "execution_count": null,
      "outputs": []
    },
    {
      "cell_type": "code",
      "metadata": {
        "colab": {
          "base_uri": "https://localhost:8080/",
          "height": 77
        },
        "id": "yTUgIfdLHus9",
        "outputId": "e685e76a-d7a1-4e5d-be22-cec32ed90f20"
      },
      "source": [
        "score_2"
      ],
      "execution_count": null,
      "outputs": [
        {
          "output_type": "execute_result",
          "data": {
            "text/html": [
              "<div>\n",
              "<style scoped>\n",
              "    .dataframe tbody tr th:only-of-type {\n",
              "        vertical-align: middle;\n",
              "    }\n",
              "\n",
              "    .dataframe tbody tr th {\n",
              "        vertical-align: top;\n",
              "    }\n",
              "\n",
              "    .dataframe thead th {\n",
              "        text-align: right;\n",
              "    }\n",
              "</style>\n",
              "<table border=\"1\" class=\"dataframe\">\n",
              "  <thead>\n",
              "    <tr style=\"text-align: right;\">\n",
              "      <th></th>\n",
              "      <th>Covariance_Type</th>\n",
              "      <th>N_Components</th>\n",
              "      <th>Silhouette_Score</th>\n",
              "    </tr>\n",
              "  </thead>\n",
              "  <tbody>\n",
              "    <tr>\n",
              "      <th>28</th>\n",
              "      <td>tied</td>\n",
              "      <td>2</td>\n",
              "      <td>0.315112</td>\n",
              "    </tr>\n",
              "  </tbody>\n",
              "</table>\n",
              "</div>"
            ],
            "text/plain": [
              "   Covariance_Type  N_Components  Silhouette_Score\n",
              "28            tied             2          0.315112"
            ]
          },
          "metadata": {},
          "execution_count": 55
        }
      ]
    },
    {
      "cell_type": "code",
      "metadata": {
        "id": "utVUnugveI8_"
      },
      "source": [
        "scorekB = []\n",
        "kmeans = KMeans(2)\n",
        "kmeans.fit(scaled)\n",
        "pred = kmeans.predict(scaled)\n",
        "scoreB.append((cov,4,gmm.bic(scaled)))\n",
        "score_1B = pd.DataFrame(scoreB)\n",
        "score_1B.columns = ['Covariance_Type', 'N_Components','BIC_Score']\n",
        "\n"
      ],
      "execution_count": null,
      "outputs": []
    },
    {
      "cell_type": "code",
      "metadata": {
        "id": "EwkqS6NTUeL2"
      },
      "source": [
        "!pip install pyvis"
      ],
      "execution_count": null,
      "outputs": []
    },
    {
      "cell_type": "markdown",
      "metadata": {
        "id": "nhH0uSc6VIEd"
      },
      "source": [
        "DAG:"
      ]
    },
    {
      "cell_type": "code",
      "metadata": {
        "id": "XLTVNjt866Bo"
      },
      "source": [
        "x_train.columns\n",
        "# bn.structure_learning.fit(x_train)\n",
        "#print(DAG['adjmat'])"
      ],
      "execution_count": null,
      "outputs": []
    },
    {
      "cell_type": "code",
      "metadata": {
        "id": "yn1N34zoG52V"
      },
      "source": [
        "edges=[('GMM_Clusters', 'valence'),\n",
        "       ('GMM_Clusters','acousticness'),\n",
        "       ('GMM_Clusters','speechiness'),\n",
        "       ('GMM_Clusters','danceability'),\n",
        "       ('GMM_Clusters', 'energy'),\n",
        "       ('GMM_Clusters','instrumentalness'),\n",
        "       ('GMM_Clusters','liveness'),\n",
        "       ('GMM_Clusters','loudness'),\n",
        "       ('GMM_Clusters','tempo')]"
      ],
      "execution_count": null,
      "outputs": []
    },
    {
      "cell_type": "code",
      "metadata": {
        "id": "BBsWnG2BITN2"
      },
      "source": [
        "DAG = bn.make_DAG(edges)\n",
        "bn.plot(DAG)\n"
      ],
      "execution_count": null,
      "outputs": []
    },
    {
      "cell_type": "code",
      "metadata": {
        "id": "og1hD9dpIsRW"
      },
      "source": [
        "model_mle = bn.parameter_learning.fit(DAG, x_train, methodtype='maximumlikelihood')"
      ],
      "execution_count": null,
      "outputs": []
    },
    {
      "cell_type": "code",
      "metadata": {
        "id": "Vb-RpZeJJdib"
      },
      "source": [
        "bn.print_CPD(model_mle)"
      ],
      "execution_count": null,
      "outputs": []
    },
    {
      "cell_type": "markdown",
      "metadata": {
        "id": "wYdn_JEFL9Pm"
      },
      "source": [
        "Making Bayesian Inferences"
      ]
    },
    {
      "cell_type": "code",
      "metadata": {
        "id": "tG2wOWbiuXrL"
      },
      "source": [
        "model = bn.parameter_learning.fit(DAG, x_train, methodtype='maximumlikelihood')\n",
        "bn.print_CPD(model)\n"
      ],
      "execution_count": null,
      "outputs": []
    },
    {
      "cell_type": "code",
      "metadata": {
        "id": "pFi_GARJuXrM"
      },
      "source": [
        "\n",
        "q1 = bn.inference.fit(model, variables=['GMM_Clusters'], evidence={'Sprinkler':0})\n",
        "print(q1.df)"
      ],
      "execution_count": null,
      "outputs": []
    },
    {
      "cell_type": "code",
      "metadata": {
        "id": "kxQQbfq_uXrO"
      },
      "source": [
        ""
      ],
      "execution_count": null,
      "outputs": []
    }
  ]
}