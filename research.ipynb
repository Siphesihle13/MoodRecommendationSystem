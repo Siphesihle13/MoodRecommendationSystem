{
  "nbformat": 4,
  "nbformat_minor": 0,
  "metadata": {
    "colab": {
      "name": "research.ipynb",
      "provenance": [],
      "collapsed_sections": [],
      "include_colab_link": true
    },
    "kernelspec": {
      "display_name": "Python 3",
      "language": "python",
      "name": "python3"
    },
    "language_info": {
      "codemirror_mode": {
        "name": "ipython",
        "version": 3
      },
      "file_extension": ".py",
      "mimetype": "text/x-python",
      "name": "python",
      "nbconvert_exporter": "python",
      "pygments_lexer": "ipython3",
      "version": "3.8.3"
    }
  },
  "cells": [
    {
      "cell_type": "markdown",
      "metadata": {
        "id": "view-in-github",
        "colab_type": "text"
      },
      "source": [
        "<a href=\"https://colab.research.google.com/github/Siphesihle13/MoodRecommendationSystem/blob/main/research.ipynb\" target=\"_parent\"><img src=\"https://colab.research.google.com/assets/colab-badge.svg\" alt=\"Open In Colab\"/></a>"
      ]
    },
    {
      "cell_type": "markdown",
      "metadata": {
        "id": "2NOTkMTFU0ZE"
      },
      "source": [
        "Music Mood Classification using GMM \\\\\n",
        "Compiled by: Siphesihle Ndhlovu (1599603)"
      ]
    },
    {
      "cell_type": "code",
      "metadata": {
        "colab": {
          "base_uri": "https://localhost:8080/"
        },
        "id": "f87RlhlzuXq1",
        "outputId": "61dce75f-61b6-4c50-a634-c7ef47732f6e"
      },
      "source": [
        "!pip install pgmpy\n",
        "!pip install matplotlib"
      ],
      "execution_count": 48,
      "outputs": [
        {
          "output_type": "stream",
          "name": "stdout",
          "text": [
            "Requirement already satisfied: pgmpy in /usr/local/lib/python3.7/dist-packages (0.1.16)\n",
            "Requirement already satisfied: scipy in /usr/local/lib/python3.7/dist-packages (from pgmpy) (1.4.1)\n",
            "Requirement already satisfied: numpy in /usr/local/lib/python3.7/dist-packages (from pgmpy) (1.19.5)\n",
            "Requirement already satisfied: tqdm in /usr/local/lib/python3.7/dist-packages (from pgmpy) (4.62.3)\n",
            "Requirement already satisfied: pyparsing in /usr/local/lib/python3.7/dist-packages (from pgmpy) (3.0.6)\n",
            "Requirement already satisfied: scikit-learn in /usr/local/lib/python3.7/dist-packages (from pgmpy) (1.0.1)\n",
            "Requirement already satisfied: networkx in /usr/local/lib/python3.7/dist-packages (from pgmpy) (2.6.3)\n",
            "Requirement already satisfied: pandas in /usr/local/lib/python3.7/dist-packages (from pgmpy) (1.1.5)\n",
            "Requirement already satisfied: torch in /usr/local/lib/python3.7/dist-packages (from pgmpy) (1.10.0+cu111)\n",
            "Requirement already satisfied: statsmodels in /usr/local/lib/python3.7/dist-packages (from pgmpy) (0.10.2)\n",
            "Requirement already satisfied: joblib in /usr/local/lib/python3.7/dist-packages (from pgmpy) (1.1.0)\n",
            "Requirement already satisfied: python-dateutil>=2.7.3 in /usr/local/lib/python3.7/dist-packages (from pandas->pgmpy) (2.8.2)\n",
            "Requirement already satisfied: pytz>=2017.2 in /usr/local/lib/python3.7/dist-packages (from pandas->pgmpy) (2018.9)\n",
            "Requirement already satisfied: six>=1.5 in /usr/local/lib/python3.7/dist-packages (from python-dateutil>=2.7.3->pandas->pgmpy) (1.15.0)\n",
            "Requirement already satisfied: threadpoolctl>=2.0.0 in /usr/local/lib/python3.7/dist-packages (from scikit-learn->pgmpy) (3.0.0)\n",
            "Requirement already satisfied: patsy>=0.4.0 in /usr/local/lib/python3.7/dist-packages (from statsmodels->pgmpy) (0.5.2)\n",
            "Requirement already satisfied: typing-extensions in /usr/local/lib/python3.7/dist-packages (from torch->pgmpy) (3.10.0.2)\n",
            "\u001b[31mERROR: Operation cancelled by user\u001b[0m\n",
            "Traceback (most recent call last):\n",
            "  File \"/usr/local/lib/python3.7/dist-packages/pip/_vendor/pkg_resources/__init__.py\", line 3021, in _dep_map\n",
            "    return self.__dep_map\n",
            "  File \"/usr/local/lib/python3.7/dist-packages/pip/_vendor/pkg_resources/__init__.py\", line 2815, in __getattr__\n",
            "    raise AttributeError(attr)\n",
            "AttributeError: _DistInfoDistribution__dep_map\n",
            "\n",
            "During handling of the above exception, another exception occurred:\n",
            "\n",
            "Traceback (most recent call last):\n",
            "  File \"/usr/local/lib/python3.7/dist-packages/pip/_internal/cli/base_command.py\", line 180, in _main\n",
            "    status = self.run(options, args)\n",
            "  File \"/usr/local/lib/python3.7/dist-packages/pip/_internal/cli/req_command.py\", line 199, in wrapper\n",
            "    return func(self, options, args)\n",
            "  File \"/usr/local/lib/python3.7/dist-packages/pip/_internal/commands/install.py\", line 385, in run\n",
            "    conflicts = self._determine_conflicts(to_install)\n",
            "  File \"/usr/local/lib/python3.7/dist-packages/pip/_internal/commands/install.py\", line 515, in _determine_conflicts\n",
            "    return check_install_conflicts(to_install)\n",
            "  File \"/usr/local/lib/python3.7/dist-packages/pip/_internal/operations/check.py\", line 103, in check_install_conflicts\n",
            "    package_set, _ = create_package_set_from_installed()\n",
            "  File \"/usr/local/lib/python3.7/dist-packages/pip/_internal/operations/check.py\", line 45, in create_package_set_from_installed\n",
            "    package_set[name] = PackageDetails(dist.version, dist.requires())\n",
            "  File \"/usr/local/lib/python3.7/dist-packages/pip/_vendor/pkg_resources/__init__.py\", line 2736, in requires\n",
            "    dm = self._dep_map\n",
            "  File \"/usr/local/lib/python3.7/dist-packages/pip/_vendor/pkg_resources/__init__.py\", line 3023, in _dep_map\n",
            "    self.__dep_map = self._compute_dependencies()\n",
            "  File \"/usr/local/lib/python3.7/dist-packages/pip/_vendor/pkg_resources/__init__.py\", line 3033, in _compute_dependencies\n",
            "    reqs.extend(parse_requirements(req))\n",
            "  File \"/usr/local/lib/python3.7/dist-packages/pip/_vendor/pkg_resources/__init__.py\", line 3085, in parse_requirements\n",
            "    if ' #' in line:\n",
            "KeyboardInterrupt\n",
            "\n",
            "During handling of the above exception, another exception occurred:\n",
            "\n",
            "Traceback (most recent call last):\n",
            "  File \"/usr/local/bin/pip3\", line 8, in <module>\n",
            "    sys.exit(main())\n",
            "  File \"/usr/local/lib/python3.7/dist-packages/pip/_internal/cli/main.py\", line 71, in main\n",
            "    return command.main(cmd_args)\n",
            "  File \"/usr/local/lib/python3.7/dist-packages/pip/_internal/cli/base_command.py\", line 104, in main\n",
            "    return self._main(args)\n",
            "  File \"/usr/local/lib/python3.7/dist-packages/pip/_internal/cli/base_command.py\", line 212, in _main\n",
            "    logger.critical(\"Operation cancelled by user\")\n",
            "  File \"/usr/lib/python3.7/logging/__init__.py\", line 1425, in critical\n",
            "    self._log(CRITICAL, msg, args, **kwargs)\n",
            "  File \"/usr/lib/python3.7/logging/__init__.py\", line 1514, in _log\n",
            "    self.handle(record)\n",
            "  File \"/usr/lib/python3.7/logging/__init__.py\", line 1524, in handle\n",
            "    self.callHandlers(record)\n",
            "  File \"/usr/lib/python3.7/logging/__init__.py\", line 1586, in callHandlers\n",
            "    hdlr.handle(record)\n",
            "  File \"/usr/lib/python3.7/logging/__init__.py\", line 894, in handle\n",
            "    self.emit(record)\n",
            "  File \"/usr/lib/python3.7/logging/handlers.py\", line 71, in emit\n",
            "    logging.FileHandler.emit(self, record)\n",
            "  File \"/usr/lib/python3.7/logging/__init__.py\", line 1127, in emit\n",
            "    StreamHandler.emit(self, record)\n",
            "  File \"/usr/lib/python3.7/logging/__init__.py\", line 1025, in emit\n",
            "    msg = self.format(record)\n",
            "  File \"/usr/lib/python3.7/logging/__init__.py\", line 869, in format\n",
            "    return fmt.format(record)\n",
            "  File \"/usr/local/lib/python3.7/dist-packages/pip/_internal/utils/logging.py\", line 138, in format\n",
            "    formatted = \"\".join([prefix + line for line in formatted.splitlines(True)])\n",
            "  File \"/usr/local/lib/python3.7/dist-packages/pip/_internal/utils/logging.py\", line 138, in <listcomp>\n",
            "    formatted = \"\".join([prefix + line for line in formatted.splitlines(True)])\n",
            "KeyboardInterrupt\n",
            "Requirement already satisfied: matplotlib in /usr/local/lib/python3.7/dist-packages (3.5.0)\n",
            "Requirement already satisfied: numpy>=1.17 in /usr/local/lib/python3.7/dist-packages (from matplotlib) (1.19.5)\n",
            "Requirement already satisfied: fonttools>=4.22.0 in /usr/local/lib/python3.7/dist-packages (from matplotlib) (4.28.1)\n",
            "Requirement already satisfied: cycler>=0.10 in /usr/local/lib/python3.7/dist-packages (from matplotlib) (0.11.0)\n",
            "Requirement already satisfied: python-dateutil>=2.7 in /usr/local/lib/python3.7/dist-packages (from matplotlib) (2.8.2)\n",
            "Requirement already satisfied: pyparsing>=2.2.1 in /usr/local/lib/python3.7/dist-packages (from matplotlib) (3.0.6)\n",
            "Requirement already satisfied: pillow>=6.2.0 in /usr/local/lib/python3.7/dist-packages (from matplotlib) (7.1.2)\n",
            "Requirement already satisfied: setuptools-scm>=4 in /usr/local/lib/python3.7/dist-packages (from matplotlib) (6.3.2)\n",
            "Requirement already satisfied: kiwisolver>=1.0.1 in /usr/local/lib/python3.7/dist-packages (from matplotlib) (1.3.2)\n",
            "Requirement already satisfied: packaging>=20.0 in /usr/local/lib/python3.7/dist-packages (from matplotlib) (21.3)\n",
            "Requirement already satisfied: six>=1.5 in /usr/local/lib/python3.7/dist-packages (from python-dateutil>=2.7->matplotlib) (1.15.0)\n",
            "Requirement already satisfied: tomli>=1.0.0 in /usr/local/lib/python3.7/dist-packages (from setuptools-scm>=4->matplotlib) (1.2.2)\n",
            "Requirement already satisfied: setuptools in /usr/local/lib/python3.7/dist-packages (from setuptools-scm>=4->matplotlib) (57.4.0)\n",
            "Traceback (most recent call last):\n",
            "  File \"/usr/local/lib/python3.7/dist-packages/pip/_vendor/pkg_resources/__init__.py\", line 3021, in _dep_map\n",
            "    return self.__dep_map\n",
            "  File \"/usr/local/lib/python3.7/dist-packages/pip/_vendor/pkg_resources/__init__.py\", line 2815, in __getattr__\n",
            "    raise AttributeError(attr)\n",
            "AttributeError: _DistInfoDistribution__dep_map\n",
            "\n",
            "During handling of the above exception, another exception occurred:\n",
            "\n",
            "Traceback (most recent call last):\n",
            "  File \"/usr/local/lib/python3.7/dist-packages/pip/_vendor/pyparsing.py\", line 1683, in _parseNoCache\n",
            "    loc, tokens = self.parseImpl(instring, preloc, doActions)\n",
            "  File \"/usr/local/lib/python3.7/dist-packages/pip/_vendor/pyparsing.py\", line 4052, in parseImpl\n",
            "    loc, resultlist = self.exprs[0]._parse(instring, loc, doActions, callPreParse=False)\n",
            "  File \"/usr/local/lib/python3.7/dist-packages/pip/_vendor/pyparsing.py\", line 1687, in _parseNoCache\n",
            "    loc, tokens = self.parseImpl(instring, preloc, doActions)\n",
            "  File \"/usr/local/lib/python3.7/dist-packages/pip/_vendor/pyparsing.py\", line 4462, in parseImpl\n",
            "    return self.expr._parse(instring, loc, doActions, callPreParse=False)\n",
            "  File \"/usr/local/lib/python3.7/dist-packages/pip/_vendor/pyparsing.py\", line 1687, in _parseNoCache\n",
            "    loc, tokens = self.parseImpl(instring, preloc, doActions)\n",
            "  File \"/usr/local/lib/python3.7/dist-packages/pip/_vendor/pyparsing.py\", line 2899, in parseImpl\n",
            "    raise ParseException(instring, loc, self.errmsg, self)\n",
            "pip._vendor.pyparsing.ParseException: Expected \"[\", found ';'  (at char 14), (line:1, col:15)\n",
            "\n",
            "During handling of the above exception, another exception occurred:\n",
            "\n",
            "Traceback (most recent call last):\n",
            "  File \"/usr/local/lib/python3.7/dist-packages/pip/_internal/cli/base_command.py\", line 180, in _main\n",
            "    status = self.run(options, args)\n",
            "  File \"/usr/local/lib/python3.7/dist-packages/pip/_internal/cli/req_command.py\", line 199, in wrapper\n",
            "    return func(self, options, args)\n",
            "  File \"/usr/local/lib/python3.7/dist-packages/pip/_internal/commands/install.py\", line 385, in run\n",
            "    conflicts = self._determine_conflicts(to_install)\n",
            "  File \"/usr/local/lib/python3.7/dist-packages/pip/_internal/commands/install.py\", line 515, in _determine_conflicts\n",
            "    return check_install_conflicts(to_install)\n",
            "  File \"/usr/local/lib/python3.7/dist-packages/pip/_internal/operations/check.py\", line 103, in check_install_conflicts\n",
            "    package_set, _ = create_package_set_from_installed()\n",
            "  File \"/usr/local/lib/python3.7/dist-packages/pip/_internal/operations/check.py\", line 45, in create_package_set_from_installed\n",
            "    package_set[name] = PackageDetails(dist.version, dist.requires())\n",
            "  File \"/usr/local/lib/python3.7/dist-packages/pip/_vendor/pkg_resources/__init__.py\", line 2736, in requires\n",
            "    dm = self._dep_map\n",
            "  File \"/usr/local/lib/python3.7/dist-packages/pip/_vendor/pkg_resources/__init__.py\", line 3023, in _dep_map\n",
            "    self.__dep_map = self._compute_dependencies()\n",
            "  File \"/usr/local/lib/python3.7/dist-packages/pip/_vendor/pkg_resources/__init__.py\", line 3033, in _compute_dependencies\n",
            "    reqs.extend(parse_requirements(req))\n",
            "  File \"/usr/local/lib/python3.7/dist-packages/pip/_vendor/pkg_resources/__init__.py\", line 3094, in parse_requirements\n",
            "    yield Requirement(line)\n",
            "  File \"/usr/local/lib/python3.7/dist-packages/pip/_vendor/pkg_resources/__init__.py\", line 3101, in __init__\n",
            "    super(Requirement, self).__init__(requirement_string)\n",
            "  File \"/usr/local/lib/python3.7/dist-packages/pip/_vendor/packaging/requirements.py\", line 113, in __init__\n",
            "    req = REQUIREMENT.parseString(requirement_string)\n",
            "  File \"/usr/local/lib/python3.7/dist-packages/pip/_vendor/pyparsing.py\", line 1943, in parseString\n",
            "    loc, tokens = self._parse(instring, 0)\n",
            "  File \"/usr/local/lib/python3.7/dist-packages/pip/_vendor/pyparsing.py\", line 1683, in _parseNoCache\n",
            "    loc, tokens = self.parseImpl(instring, preloc, doActions)\n",
            "  File \"/usr/local/lib/python3.7/dist-packages/pip/_vendor/pyparsing.py\", line 4069, in parseImpl\n",
            "    loc, exprtokens = e._parse(instring, loc, doActions)\n",
            "  File \"/usr/local/lib/python3.7/dist-packages/pip/_vendor/pyparsing.py\", line 1683, in _parseNoCache\n",
            "    loc, tokens = self.parseImpl(instring, preloc, doActions)\n",
            "  File \"/usr/local/lib/python3.7/dist-packages/pip/_vendor/pyparsing.py\", line 4849, in parseImpl\n",
            "    loc, tokens = self.expr._parse(instring, loc, doActions, callPreParse=False)\n",
            "  File \"/usr/local/lib/python3.7/dist-packages/pip/_vendor/pyparsing.py\", line 1683, in _parseNoCache\n",
            "    loc, tokens = self.parseImpl(instring, preloc, doActions)\n",
            "KeyboardInterrupt\n",
            "\n",
            "During handling of the above exception, another exception occurred:\n",
            "\n",
            "Traceback (most recent call last):\n",
            "  File \"/usr/lib/python3.7/logging/__init__.py\", line 1619, in isEnabledFor\n",
            "    return self._cache[level]\n",
            "KeyError: 50\n",
            "\n",
            "During handling of the above exception, another exception occurred:\n",
            "\n",
            "Traceback (most recent call last):\n",
            "  File \"/usr/local/bin/pip3\", line 8, in <module>\n",
            "    sys.exit(main())\n",
            "  File \"/usr/local/lib/python3.7/dist-packages/pip/_internal/cli/main.py\", line 71, in main\n",
            "    return command.main(cmd_args)\n",
            "  File \"/usr/local/lib/python3.7/dist-packages/pip/_internal/cli/base_command.py\", line 104, in main\n",
            "    return self._main(args)\n",
            "  File \"/usr/local/lib/python3.7/dist-packages/pip/_internal/cli/base_command.py\", line 212, in _main\n",
            "    logger.critical(\"Operation cancelled by user\")\n",
            "  File \"/usr/lib/python3.7/logging/__init__.py\", line 1424, in critical\n",
            "    if self.isEnabledFor(CRITICAL):\n",
            "  File \"/usr/lib/python3.7/logging/__init__.py\", line 1621, in isEnabledFor\n",
            "    _acquireLock()\n",
            "  File \"/usr/lib/python3.7/logging/__init__.py\", line 212, in _acquireLock\n",
            "    def _acquireLock():\n",
            "KeyboardInterrupt\n"
          ]
        }
      ]
    },
    {
      "cell_type": "code",
      "metadata": {
        "colab": {
          "base_uri": "https://localhost:8080/"
        },
        "id": "xHVWYFmlOPWJ",
        "outputId": "a3234e08-72aa-4871-9aec-bfeef537b204"
      },
      "source": [
        "!pip install bnlearn"
      ],
      "execution_count": 49,
      "outputs": [
        {
          "output_type": "stream",
          "name": "stdout",
          "text": [
            "Requirement already satisfied: bnlearn in /usr/local/lib/python3.7/dist-packages (0.4.7)\n",
            "Requirement already satisfied: tqdm in /usr/local/lib/python3.7/dist-packages (from bnlearn) (4.62.3)\n",
            "Requirement already satisfied: networkx>2.5 in /usr/local/lib/python3.7/dist-packages (from bnlearn) (2.6.3)\n",
            "Requirement already satisfied: pandas in /usr/local/lib/python3.7/dist-packages (from bnlearn) (1.1.5)\n",
            "Requirement already satisfied: pgmpy>=0.1.13 in /usr/local/lib/python3.7/dist-packages (from bnlearn) (0.1.16)\n",
            "Requirement already satisfied: df2onehot in /usr/local/lib/python3.7/dist-packages (from bnlearn) (0.2.16)\n",
            "Requirement already satisfied: community in /usr/local/lib/python3.7/dist-packages (from bnlearn) (1.0.0b1)\n",
            "Requirement already satisfied: fsspec in /usr/local/lib/python3.7/dist-packages (from bnlearn) (2021.11.1)\n",
            "Requirement already satisfied: statsmodels in /usr/local/lib/python3.7/dist-packages (from bnlearn) (0.10.2)\n",
            "Requirement already satisfied: matplotlib>=3.3.4 in /usr/local/lib/python3.7/dist-packages (from bnlearn) (3.5.0)\n",
            "Requirement already satisfied: tabulate in /usr/local/lib/python3.7/dist-packages (from bnlearn) (0.8.9)\n",
            "Requirement already satisfied: ismember in /usr/local/lib/python3.7/dist-packages (from bnlearn) (0.2.1)\n",
            "Requirement already satisfied: packaging in /usr/local/lib/python3.7/dist-packages (from bnlearn) (21.3)\n",
            "Requirement already satisfied: wget in /usr/local/lib/python3.7/dist-packages (from bnlearn) (3.2)\n",
            "Requirement already satisfied: numpy in /usr/local/lib/python3.7/dist-packages (from bnlearn) (1.19.5)\n",
            "Requirement already satisfied: sklearn in /usr/local/lib/python3.7/dist-packages (from bnlearn) (0.0)\n",
            "Requirement already satisfied: funcsigs in /usr/local/lib/python3.7/dist-packages (from bnlearn) (1.0.2)\n",
            "Requirement already satisfied: pypickle in /usr/local/lib/python3.7/dist-packages (from bnlearn) (0.1.1)\n",
            "Requirement already satisfied: pyparsing>=2.2.1 in /usr/local/lib/python3.7/dist-packages (from matplotlib>=3.3.4->bnlearn) (3.0.6)\n",
            "Requirement already satisfied: fonttools>=4.22.0 in /usr/local/lib/python3.7/dist-packages (from matplotlib>=3.3.4->bnlearn) (4.28.1)\n",
            "Requirement already satisfied: cycler>=0.10 in /usr/local/lib/python3.7/dist-packages (from matplotlib>=3.3.4->bnlearn) (0.11.0)\n",
            "Requirement already satisfied: kiwisolver>=1.0.1 in /usr/local/lib/python3.7/dist-packages (from matplotlib>=3.3.4->bnlearn) (1.3.2)\n",
            "Requirement already satisfied: setuptools-scm>=4 in /usr/local/lib/python3.7/dist-packages (from matplotlib>=3.3.4->bnlearn) (6.3.2)\n",
            "Requirement already satisfied: pillow>=6.2.0 in /usr/local/lib/python3.7/dist-packages (from matplotlib>=3.3.4->bnlearn) (7.1.2)\n",
            "Requirement already satisfied: python-dateutil>=2.7 in /usr/local/lib/python3.7/dist-packages (from matplotlib>=3.3.4->bnlearn) (2.8.2)\n",
            "Requirement already satisfied: scikit-learn in /usr/local/lib/python3.7/dist-packages (from pgmpy>=0.1.13->bnlearn) (1.0.1)\n",
            "Requirement already satisfied: torch in /usr/local/lib/python3.7/dist-packages (from pgmpy>=0.1.13->bnlearn) (1.10.0+cu111)\n",
            "Requirement already satisfied: joblib in /usr/local/lib/python3.7/dist-packages (from pgmpy>=0.1.13->bnlearn) (1.1.0)\n",
            "Requirement already satisfied: scipy in /usr/local/lib/python3.7/dist-packages (from pgmpy>=0.1.13->bnlearn) (1.4.1)\n",
            "Requirement already satisfied: six>=1.5 in /usr/local/lib/python3.7/dist-packages (from python-dateutil>=2.7->matplotlib>=3.3.4->bnlearn) (1.15.0)\n",
            "Requirement already satisfied: tomli>=1.0.0 in /usr/local/lib/python3.7/dist-packages (from setuptools-scm>=4->matplotlib>=3.3.4->bnlearn) (1.2.2)\n",
            "Requirement already satisfied: setuptools in /usr/local/lib/python3.7/dist-packages (from setuptools-scm>=4->matplotlib>=3.3.4->bnlearn) (57.4.0)\n",
            "Requirement already satisfied: Flask in /usr/local/lib/python3.7/dist-packages (from community->bnlearn) (1.1.4)\n",
            "Requirement already satisfied: requests in /usr/local/lib/python3.7/dist-packages (from community->bnlearn) (2.23.0)\n",
            "Requirement already satisfied: click<8.0,>=5.1 in /usr/local/lib/python3.7/dist-packages (from Flask->community->bnlearn) (7.1.2)\n",
            "Requirement already satisfied: itsdangerous<2.0,>=0.24 in /usr/local/lib/python3.7/dist-packages (from Flask->community->bnlearn) (1.1.0)\n",
            "Requirement already satisfied: Werkzeug<2.0,>=0.15 in /usr/local/lib/python3.7/dist-packages (from Flask->community->bnlearn) (1.0.1)\n",
            "Requirement already satisfied: Jinja2<3.0,>=2.10.1 in /usr/local/lib/python3.7/dist-packages (from Flask->community->bnlearn) (2.11.3)\n",
            "Requirement already satisfied: MarkupSafe>=0.23 in /usr/local/lib/python3.7/dist-packages (from Jinja2<3.0,>=2.10.1->Flask->community->bnlearn) (2.0.1)\n",
            "Requirement already satisfied: pytz>=2017.2 in /usr/local/lib/python3.7/dist-packages (from pandas->bnlearn) (2018.9)\n",
            "Requirement already satisfied: chardet<4,>=3.0.2 in /usr/local/lib/python3.7/dist-packages (from requests->community->bnlearn) (3.0.4)\n",
            "Requirement already satisfied: urllib3!=1.25.0,!=1.25.1,<1.26,>=1.21.1 in /usr/local/lib/python3.7/dist-packages (from requests->community->bnlearn) (1.24.3)\n",
            "Requirement already satisfied: idna<3,>=2.5 in /usr/local/lib/python3.7/dist-packages (from requests->community->bnlearn) (2.10)\n",
            "Requirement already satisfied: certifi>=2017.4.17 in /usr/local/lib/python3.7/dist-packages (from requests->community->bnlearn) (2021.10.8)\n",
            "Requirement already satisfied: threadpoolctl>=2.0.0 in /usr/local/lib/python3.7/dist-packages (from scikit-learn->pgmpy>=0.1.13->bnlearn) (3.0.0)\n",
            "Requirement already satisfied: patsy>=0.4.0 in /usr/local/lib/python3.7/dist-packages (from statsmodels->bnlearn) (0.5.2)\n",
            "Requirement already satisfied: typing-extensions in /usr/local/lib/python3.7/dist-packages (from torch->pgmpy>=0.1.13->bnlearn) (3.10.0.2)\n"
          ]
        }
      ]
    },
    {
      "cell_type": "code",
      "metadata": {
        "id": "4WFBSiBy9Heg"
      },
      "source": [
        "#from google.colab import files\n",
        "#uploaded=files.upload()"
      ],
      "execution_count": 50,
      "outputs": []
    },
    {
      "cell_type": "code",
      "metadata": {
        "id": "MrWj4ycWuXq_"
      },
      "source": [
        "import numpy as np\n",
        "import matplotlib.pyplot as plt\n",
        "import seaborn as sns\n",
        "from sklearn.mixture import GaussianMixture\n",
        "import pandas as pd\n",
        "from pgmpy.models import BayesianModel\n",
        "import seaborn as sns\n",
        "import bnlearn as bn\n",
        "\n",
        "import io"
      ],
      "execution_count": 51,
      "outputs": []
    },
    {
      "cell_type": "code",
      "metadata": {
        "id": "A7zs9Hqtkp-D"
      },
      "source": [
        "from sklearn.cluster import KMeans\n"
      ],
      "execution_count": 52,
      "outputs": []
    },
    {
      "cell_type": "code",
      "metadata": {
        "id": "Fj1SYheAuXrC"
      },
      "source": [
        "#spotify_df = pd.read_csv(io.BytesIO(uploaded['data_o.csv']))\n",
        "\n",
        "spotify_df = pd.read_csv('data_o.csv')\n",
        "\n",
        "spotify_df=spotify_df.drop(\"id\",axis=1)"
      ],
      "execution_count": 53,
      "outputs": []
    },
    {
      "cell_type": "code",
      "metadata": {
        "id": "PNN1d-X_uXrE",
        "colab": {
          "base_uri": "https://localhost:8080/"
        },
        "outputId": "80fec471-c361-4871-d4fc-212dd2c3ccc9"
      },
      "source": [
        "spotify_df.info()"
      ],
      "execution_count": 54,
      "outputs": [
        {
          "output_type": "stream",
          "name": "stdout",
          "text": [
            "<class 'pandas.core.frame.DataFrame'>\n",
            "RangeIndex: 170653 entries, 0 to 170652\n",
            "Data columns (total 18 columns):\n",
            " #   Column            Non-Null Count   Dtype  \n",
            "---  ------            --------------   -----  \n",
            " 0   valence           170653 non-null  float64\n",
            " 1   year              170653 non-null  int64  \n",
            " 2   acousticness      170653 non-null  float64\n",
            " 3   artists           170653 non-null  object \n",
            " 4   danceability      170653 non-null  float64\n",
            " 5   duration_ms       170653 non-null  int64  \n",
            " 6   energy            170653 non-null  float64\n",
            " 7   explicit          170653 non-null  int64  \n",
            " 8   instrumentalness  170653 non-null  float64\n",
            " 9   key               170653 non-null  int64  \n",
            " 10  liveness          170653 non-null  float64\n",
            " 11  loudness          170653 non-null  float64\n",
            " 12  mode              170653 non-null  int64  \n",
            " 13  name              170653 non-null  object \n",
            " 14  popularity        170653 non-null  int64  \n",
            " 15  release_date      170653 non-null  object \n",
            " 16  speechiness       170653 non-null  float64\n",
            " 17  tempo             170653 non-null  float64\n",
            "dtypes: float64(9), int64(6), object(3)\n",
            "memory usage: 23.4+ MB\n"
          ]
        }
      ]
    },
    {
      "cell_type": "code",
      "metadata": {
        "id": "umFGMqIDSSS8",
        "colab": {
          "base_uri": "https://localhost:8080/",
          "height": 534
        },
        "outputId": "6fd0d30c-01c0-477a-d38c-8486d0649777"
      },
      "source": [
        "spotify_df.corr()"
      ],
      "execution_count": 55,
      "outputs": [
        {
          "output_type": "execute_result",
          "data": {
            "text/html": [
              "<div>\n",
              "<style scoped>\n",
              "    .dataframe tbody tr th:only-of-type {\n",
              "        vertical-align: middle;\n",
              "    }\n",
              "\n",
              "    .dataframe tbody tr th {\n",
              "        vertical-align: top;\n",
              "    }\n",
              "\n",
              "    .dataframe thead th {\n",
              "        text-align: right;\n",
              "    }\n",
              "</style>\n",
              "<table border=\"1\" class=\"dataframe\">\n",
              "  <thead>\n",
              "    <tr style=\"text-align: right;\">\n",
              "      <th></th>\n",
              "      <th>valence</th>\n",
              "      <th>year</th>\n",
              "      <th>acousticness</th>\n",
              "      <th>danceability</th>\n",
              "      <th>duration_ms</th>\n",
              "      <th>energy</th>\n",
              "      <th>explicit</th>\n",
              "      <th>instrumentalness</th>\n",
              "      <th>key</th>\n",
              "      <th>liveness</th>\n",
              "      <th>loudness</th>\n",
              "      <th>mode</th>\n",
              "      <th>popularity</th>\n",
              "      <th>speechiness</th>\n",
              "      <th>tempo</th>\n",
              "    </tr>\n",
              "  </thead>\n",
              "  <tbody>\n",
              "    <tr>\n",
              "      <th>valence</th>\n",
              "      <td>1.000000</td>\n",
              "      <td>-0.028245</td>\n",
              "      <td>-0.184101</td>\n",
              "      <td>0.558946</td>\n",
              "      <td>-0.191813</td>\n",
              "      <td>0.353876</td>\n",
              "      <td>-0.018613</td>\n",
              "      <td>-0.198501</td>\n",
              "      <td>0.028473</td>\n",
              "      <td>0.003832</td>\n",
              "      <td>0.313512</td>\n",
              "      <td>0.015641</td>\n",
              "      <td>0.014200</td>\n",
              "      <td>0.046381</td>\n",
              "      <td>0.171689</td>\n",
              "    </tr>\n",
              "    <tr>\n",
              "      <th>year</th>\n",
              "      <td>-0.028245</td>\n",
              "      <td>1.000000</td>\n",
              "      <td>-0.614250</td>\n",
              "      <td>0.188515</td>\n",
              "      <td>0.079713</td>\n",
              "      <td>0.530272</td>\n",
              "      <td>0.220881</td>\n",
              "      <td>-0.272371</td>\n",
              "      <td>0.007540</td>\n",
              "      <td>-0.057318</td>\n",
              "      <td>0.487697</td>\n",
              "      <td>-0.032385</td>\n",
              "      <td>0.862442</td>\n",
              "      <td>-0.167816</td>\n",
              "      <td>0.141048</td>\n",
              "    </tr>\n",
              "    <tr>\n",
              "      <th>acousticness</th>\n",
              "      <td>-0.184101</td>\n",
              "      <td>-0.614250</td>\n",
              "      <td>1.000000</td>\n",
              "      <td>-0.266852</td>\n",
              "      <td>-0.076373</td>\n",
              "      <td>-0.749393</td>\n",
              "      <td>-0.246007</td>\n",
              "      <td>0.329819</td>\n",
              "      <td>-0.020550</td>\n",
              "      <td>-0.024482</td>\n",
              "      <td>-0.561696</td>\n",
              "      <td>0.047168</td>\n",
              "      <td>-0.573162</td>\n",
              "      <td>-0.043980</td>\n",
              "      <td>-0.207120</td>\n",
              "    </tr>\n",
              "    <tr>\n",
              "      <th>danceability</th>\n",
              "      <td>0.558946</td>\n",
              "      <td>0.188515</td>\n",
              "      <td>-0.266852</td>\n",
              "      <td>1.000000</td>\n",
              "      <td>-0.139937</td>\n",
              "      <td>0.221967</td>\n",
              "      <td>0.241757</td>\n",
              "      <td>-0.278063</td>\n",
              "      <td>0.024439</td>\n",
              "      <td>-0.100193</td>\n",
              "      <td>0.285057</td>\n",
              "      <td>-0.045956</td>\n",
              "      <td>0.199606</td>\n",
              "      <td>0.235491</td>\n",
              "      <td>0.001801</td>\n",
              "    </tr>\n",
              "    <tr>\n",
              "      <th>duration_ms</th>\n",
              "      <td>-0.191813</td>\n",
              "      <td>0.079713</td>\n",
              "      <td>-0.076373</td>\n",
              "      <td>-0.139937</td>\n",
              "      <td>1.000000</td>\n",
              "      <td>0.042119</td>\n",
              "      <td>-0.048880</td>\n",
              "      <td>0.084770</td>\n",
              "      <td>-0.004266</td>\n",
              "      <td>0.047168</td>\n",
              "      <td>-0.003037</td>\n",
              "      <td>-0.046085</td>\n",
              "      <td>0.059597</td>\n",
              "      <td>-0.084604</td>\n",
              "      <td>-0.025472</td>\n",
              "    </tr>\n",
              "    <tr>\n",
              "      <th>energy</th>\n",
              "      <td>0.353876</td>\n",
              "      <td>0.530272</td>\n",
              "      <td>-0.749393</td>\n",
              "      <td>0.221967</td>\n",
              "      <td>0.042119</td>\n",
              "      <td>1.000000</td>\n",
              "      <td>0.132723</td>\n",
              "      <td>-0.281101</td>\n",
              "      <td>0.027705</td>\n",
              "      <td>0.126192</td>\n",
              "      <td>0.782362</td>\n",
              "      <td>-0.039260</td>\n",
              "      <td>0.485005</td>\n",
              "      <td>-0.070555</td>\n",
              "      <td>0.250865</td>\n",
              "    </tr>\n",
              "    <tr>\n",
              "      <th>explicit</th>\n",
              "      <td>-0.018613</td>\n",
              "      <td>0.220881</td>\n",
              "      <td>-0.246007</td>\n",
              "      <td>0.241757</td>\n",
              "      <td>-0.048880</td>\n",
              "      <td>0.132723</td>\n",
              "      <td>1.000000</td>\n",
              "      <td>-0.140987</td>\n",
              "      <td>0.005432</td>\n",
              "      <td>0.039640</td>\n",
              "      <td>0.140300</td>\n",
              "      <td>-0.078872</td>\n",
              "      <td>0.191543</td>\n",
              "      <td>0.414070</td>\n",
              "      <td>0.011969</td>\n",
              "    </tr>\n",
              "    <tr>\n",
              "      <th>instrumentalness</th>\n",
              "      <td>-0.198501</td>\n",
              "      <td>-0.272371</td>\n",
              "      <td>0.329819</td>\n",
              "      <td>-0.278063</td>\n",
              "      <td>0.084770</td>\n",
              "      <td>-0.281101</td>\n",
              "      <td>-0.140987</td>\n",
              "      <td>1.000000</td>\n",
              "      <td>-0.014591</td>\n",
              "      <td>-0.047193</td>\n",
              "      <td>-0.408611</td>\n",
              "      <td>-0.036543</td>\n",
              "      <td>-0.296750</td>\n",
              "      <td>-0.121700</td>\n",
              "      <td>-0.105361</td>\n",
              "    </tr>\n",
              "    <tr>\n",
              "      <th>key</th>\n",
              "      <td>0.028473</td>\n",
              "      <td>0.007540</td>\n",
              "      <td>-0.020550</td>\n",
              "      <td>0.024439</td>\n",
              "      <td>-0.004266</td>\n",
              "      <td>0.027705</td>\n",
              "      <td>0.005432</td>\n",
              "      <td>-0.014591</td>\n",
              "      <td>1.000000</td>\n",
              "      <td>0.000205</td>\n",
              "      <td>0.017385</td>\n",
              "      <td>-0.116260</td>\n",
              "      <td>0.007826</td>\n",
              "      <td>0.023784</td>\n",
              "      <td>0.002629</td>\n",
              "    </tr>\n",
              "    <tr>\n",
              "      <th>liveness</th>\n",
              "      <td>0.003832</td>\n",
              "      <td>-0.057318</td>\n",
              "      <td>-0.024482</td>\n",
              "      <td>-0.100193</td>\n",
              "      <td>0.047168</td>\n",
              "      <td>0.126192</td>\n",
              "      <td>0.039640</td>\n",
              "      <td>-0.047193</td>\n",
              "      <td>0.000205</td>\n",
              "      <td>1.000000</td>\n",
              "      <td>0.056422</td>\n",
              "      <td>0.002641</td>\n",
              "      <td>-0.076464</td>\n",
              "      <td>0.134667</td>\n",
              "      <td>0.007714</td>\n",
              "    </tr>\n",
              "    <tr>\n",
              "      <th>loudness</th>\n",
              "      <td>0.313512</td>\n",
              "      <td>0.487697</td>\n",
              "      <td>-0.561696</td>\n",
              "      <td>0.285057</td>\n",
              "      <td>-0.003037</td>\n",
              "      <td>0.782362</td>\n",
              "      <td>0.140300</td>\n",
              "      <td>-0.408611</td>\n",
              "      <td>0.017385</td>\n",
              "      <td>0.056422</td>\n",
              "      <td>1.000000</td>\n",
              "      <td>-0.010727</td>\n",
              "      <td>0.457051</td>\n",
              "      <td>-0.139296</td>\n",
              "      <td>0.209774</td>\n",
              "    </tr>\n",
              "    <tr>\n",
              "      <th>mode</th>\n",
              "      <td>0.015641</td>\n",
              "      <td>-0.032385</td>\n",
              "      <td>0.047168</td>\n",
              "      <td>-0.045956</td>\n",
              "      <td>-0.046085</td>\n",
              "      <td>-0.039260</td>\n",
              "      <td>-0.078872</td>\n",
              "      <td>-0.036543</td>\n",
              "      <td>-0.116260</td>\n",
              "      <td>0.002641</td>\n",
              "      <td>-0.010727</td>\n",
              "      <td>1.000000</td>\n",
              "      <td>-0.028897</td>\n",
              "      <td>-0.057796</td>\n",
              "      <td>0.011637</td>\n",
              "    </tr>\n",
              "    <tr>\n",
              "      <th>popularity</th>\n",
              "      <td>0.014200</td>\n",
              "      <td>0.862442</td>\n",
              "      <td>-0.573162</td>\n",
              "      <td>0.199606</td>\n",
              "      <td>0.059597</td>\n",
              "      <td>0.485005</td>\n",
              "      <td>0.191543</td>\n",
              "      <td>-0.296750</td>\n",
              "      <td>0.007826</td>\n",
              "      <td>-0.076464</td>\n",
              "      <td>0.457051</td>\n",
              "      <td>-0.028897</td>\n",
              "      <td>1.000000</td>\n",
              "      <td>-0.171979</td>\n",
              "      <td>0.133310</td>\n",
              "    </tr>\n",
              "    <tr>\n",
              "      <th>speechiness</th>\n",
              "      <td>0.046381</td>\n",
              "      <td>-0.167816</td>\n",
              "      <td>-0.043980</td>\n",
              "      <td>0.235491</td>\n",
              "      <td>-0.084604</td>\n",
              "      <td>-0.070555</td>\n",
              "      <td>0.414070</td>\n",
              "      <td>-0.121700</td>\n",
              "      <td>0.023784</td>\n",
              "      <td>0.134667</td>\n",
              "      <td>-0.139296</td>\n",
              "      <td>-0.057796</td>\n",
              "      <td>-0.171979</td>\n",
              "      <td>1.000000</td>\n",
              "      <td>-0.011523</td>\n",
              "    </tr>\n",
              "    <tr>\n",
              "      <th>tempo</th>\n",
              "      <td>0.171689</td>\n",
              "      <td>0.141048</td>\n",
              "      <td>-0.207120</td>\n",
              "      <td>0.001801</td>\n",
              "      <td>-0.025472</td>\n",
              "      <td>0.250865</td>\n",
              "      <td>0.011969</td>\n",
              "      <td>-0.105361</td>\n",
              "      <td>0.002629</td>\n",
              "      <td>0.007714</td>\n",
              "      <td>0.209774</td>\n",
              "      <td>0.011637</td>\n",
              "      <td>0.133310</td>\n",
              "      <td>-0.011523</td>\n",
              "      <td>1.000000</td>\n",
              "    </tr>\n",
              "  </tbody>\n",
              "</table>\n",
              "</div>"
            ],
            "text/plain": [
              "                   valence      year  ...  speechiness     tempo\n",
              "valence           1.000000 -0.028245  ...     0.046381  0.171689\n",
              "year             -0.028245  1.000000  ...    -0.167816  0.141048\n",
              "acousticness     -0.184101 -0.614250  ...    -0.043980 -0.207120\n",
              "danceability      0.558946  0.188515  ...     0.235491  0.001801\n",
              "duration_ms      -0.191813  0.079713  ...    -0.084604 -0.025472\n",
              "energy            0.353876  0.530272  ...    -0.070555  0.250865\n",
              "explicit         -0.018613  0.220881  ...     0.414070  0.011969\n",
              "instrumentalness -0.198501 -0.272371  ...    -0.121700 -0.105361\n",
              "key               0.028473  0.007540  ...     0.023784  0.002629\n",
              "liveness          0.003832 -0.057318  ...     0.134667  0.007714\n",
              "loudness          0.313512  0.487697  ...    -0.139296  0.209774\n",
              "mode              0.015641 -0.032385  ...    -0.057796  0.011637\n",
              "popularity        0.014200  0.862442  ...    -0.171979  0.133310\n",
              "speechiness       0.046381 -0.167816  ...     1.000000 -0.011523\n",
              "tempo             0.171689  0.141048  ...    -0.011523  1.000000\n",
              "\n",
              "[15 rows x 15 columns]"
            ]
          },
          "metadata": {},
          "execution_count": 55
        }
      ]
    },
    {
      "cell_type": "code",
      "metadata": {
        "id": "rk3fAua7gqXX"
      },
      "source": [
        ""
      ],
      "execution_count": 55,
      "outputs": []
    },
    {
      "cell_type": "code",
      "metadata": {
        "id": "BVJJSr3NR3hZ"
      },
      "source": [
        "spotify_df=spotify_df.drop([\"year\",  \"duration_ms\", \"explicit\",\"mode\",\"key\",\"popularity\", \"release_date\"],axis=1)\n"
      ],
      "execution_count": 56,
      "outputs": []
    },
    {
      "cell_type": "code",
      "metadata": {
        "id": "3hKyEFSLUd-x",
        "colab": {
          "base_uri": "https://localhost:8080/"
        },
        "outputId": "ce003a00-6325-47f4-8f4b-90962a6c1dd6"
      },
      "source": [
        "spotify_df.info()"
      ],
      "execution_count": 57,
      "outputs": [
        {
          "output_type": "stream",
          "name": "stdout",
          "text": [
            "<class 'pandas.core.frame.DataFrame'>\n",
            "RangeIndex: 170653 entries, 0 to 170652\n",
            "Data columns (total 11 columns):\n",
            " #   Column            Non-Null Count   Dtype  \n",
            "---  ------            --------------   -----  \n",
            " 0   valence           170653 non-null  float64\n",
            " 1   acousticness      170653 non-null  float64\n",
            " 2   artists           170653 non-null  object \n",
            " 3   danceability      170653 non-null  float64\n",
            " 4   energy            170653 non-null  float64\n",
            " 5   instrumentalness  170653 non-null  float64\n",
            " 6   liveness          170653 non-null  float64\n",
            " 7   loudness          170653 non-null  float64\n",
            " 8   name              170653 non-null  object \n",
            " 9   speechiness       170653 non-null  float64\n",
            " 10  tempo             170653 non-null  float64\n",
            "dtypes: float64(9), object(2)\n",
            "memory usage: 14.3+ MB\n"
          ]
        }
      ]
    },
    {
      "cell_type": "code",
      "metadata": {
        "id": "ntBxH9hRkCHD",
        "colab": {
          "base_uri": "https://localhost:8080/",
          "height": 306
        },
        "outputId": "cadacd7e-db0e-4118-a6ce-9fd6bd813f7e"
      },
      "source": [
        "x_train=((spotify_df[150000:160001]).reset_index()).drop([\"index\"], axis =1)\n",
        "x_test=spotify_df[160001:]\n",
        "\n",
        "x_train.head()"
      ],
      "execution_count": 58,
      "outputs": [
        {
          "output_type": "execute_result",
          "data": {
            "text/html": [
              "<div>\n",
              "<style scoped>\n",
              "    .dataframe tbody tr th:only-of-type {\n",
              "        vertical-align: middle;\n",
              "    }\n",
              "\n",
              "    .dataframe tbody tr th {\n",
              "        vertical-align: top;\n",
              "    }\n",
              "\n",
              "    .dataframe thead th {\n",
              "        text-align: right;\n",
              "    }\n",
              "</style>\n",
              "<table border=\"1\" class=\"dataframe\">\n",
              "  <thead>\n",
              "    <tr style=\"text-align: right;\">\n",
              "      <th></th>\n",
              "      <th>valence</th>\n",
              "      <th>acousticness</th>\n",
              "      <th>artists</th>\n",
              "      <th>danceability</th>\n",
              "      <th>energy</th>\n",
              "      <th>instrumentalness</th>\n",
              "      <th>liveness</th>\n",
              "      <th>loudness</th>\n",
              "      <th>name</th>\n",
              "      <th>speechiness</th>\n",
              "      <th>tempo</th>\n",
              "    </tr>\n",
              "  </thead>\n",
              "  <tbody>\n",
              "    <tr>\n",
              "      <th>0</th>\n",
              "      <td>0.6520</td>\n",
              "      <td>0.280000</td>\n",
              "      <td>['Tom Petty and the Heartbreakers']</td>\n",
              "      <td>0.703</td>\n",
              "      <td>0.536</td>\n",
              "      <td>0.000000</td>\n",
              "      <td>0.1700</td>\n",
              "      <td>-10.523</td>\n",
              "      <td>Built To Last</td>\n",
              "      <td>0.0271</td>\n",
              "      <td>110.946</td>\n",
              "    </tr>\n",
              "    <tr>\n",
              "      <th>1</th>\n",
              "      <td>0.4570</td>\n",
              "      <td>0.864000</td>\n",
              "      <td>['Francisco Tárrega', 'Julian Bream']</td>\n",
              "      <td>0.196</td>\n",
              "      <td>0.211</td>\n",
              "      <td>0.836000</td>\n",
              "      <td>0.0936</td>\n",
              "      <td>-24.619</td>\n",
              "      <td>Recuerdos de la Alhambra</td>\n",
              "      <td>0.0435</td>\n",
              "      <td>148.681</td>\n",
              "    </tr>\n",
              "    <tr>\n",
              "      <th>2</th>\n",
              "      <td>0.0642</td>\n",
              "      <td>0.000256</td>\n",
              "      <td>['Nirvana']</td>\n",
              "      <td>0.271</td>\n",
              "      <td>0.959</td>\n",
              "      <td>0.854000</td>\n",
              "      <td>0.0858</td>\n",
              "      <td>-5.866</td>\n",
              "      <td>Endless, Nameless</td>\n",
              "      <td>0.1250</td>\n",
              "      <td>131.846</td>\n",
              "    </tr>\n",
              "    <tr>\n",
              "      <th>3</th>\n",
              "      <td>0.1190</td>\n",
              "      <td>0.745000</td>\n",
              "      <td>['Manuel &amp; The Music Of The Mountains']</td>\n",
              "      <td>0.228</td>\n",
              "      <td>0.346</td>\n",
              "      <td>0.881000</td>\n",
              "      <td>0.1850</td>\n",
              "      <td>-10.995</td>\n",
              "      <td>Moonglow and Theme from Picnic</td>\n",
              "      <td>0.0309</td>\n",
              "      <td>81.718</td>\n",
              "    </tr>\n",
              "    <tr>\n",
              "      <th>4</th>\n",
              "      <td>0.7420</td>\n",
              "      <td>0.004280</td>\n",
              "      <td>['Rod Stewart']</td>\n",
              "      <td>0.619</td>\n",
              "      <td>0.956</td>\n",
              "      <td>0.000035</td>\n",
              "      <td>0.0604</td>\n",
              "      <td>-6.886</td>\n",
              "      <td>It Takes Two - 2008 Remaster</td>\n",
              "      <td>0.0648</td>\n",
              "      <td>141.221</td>\n",
              "    </tr>\n",
              "  </tbody>\n",
              "</table>\n",
              "</div>"
            ],
            "text/plain": [
              "   valence  acousticness  ... speechiness    tempo\n",
              "0   0.6520      0.280000  ...      0.0271  110.946\n",
              "1   0.4570      0.864000  ...      0.0435  148.681\n",
              "2   0.0642      0.000256  ...      0.1250  131.846\n",
              "3   0.1190      0.745000  ...      0.0309   81.718\n",
              "4   0.7420      0.004280  ...      0.0648  141.221\n",
              "\n",
              "[5 rows x 11 columns]"
            ]
          },
          "metadata": {},
          "execution_count": 58
        }
      ]
    },
    {
      "cell_type": "code",
      "metadata": {
        "id": "2BEFkQthkU2J"
      },
      "source": [
        "x_trainC=x_train.iloc[:,[0,1,3,4,5,6,7,9,10]]\n",
        "cols=x_trainC.columns"
      ],
      "execution_count": 59,
      "outputs": []
    },
    {
      "cell_type": "code",
      "metadata": {
        "id": "ZzcxN7f0dZV2",
        "colab": {
          "base_uri": "https://localhost:8080/",
          "height": 204
        },
        "outputId": "1fc885b0-b148-456b-812d-85894d9ef150"
      },
      "source": [
        "\n",
        "x_trainC.head()"
      ],
      "execution_count": 60,
      "outputs": [
        {
          "output_type": "execute_result",
          "data": {
            "text/html": [
              "<div>\n",
              "<style scoped>\n",
              "    .dataframe tbody tr th:only-of-type {\n",
              "        vertical-align: middle;\n",
              "    }\n",
              "\n",
              "    .dataframe tbody tr th {\n",
              "        vertical-align: top;\n",
              "    }\n",
              "\n",
              "    .dataframe thead th {\n",
              "        text-align: right;\n",
              "    }\n",
              "</style>\n",
              "<table border=\"1\" class=\"dataframe\">\n",
              "  <thead>\n",
              "    <tr style=\"text-align: right;\">\n",
              "      <th></th>\n",
              "      <th>valence</th>\n",
              "      <th>acousticness</th>\n",
              "      <th>danceability</th>\n",
              "      <th>energy</th>\n",
              "      <th>instrumentalness</th>\n",
              "      <th>liveness</th>\n",
              "      <th>loudness</th>\n",
              "      <th>speechiness</th>\n",
              "      <th>tempo</th>\n",
              "    </tr>\n",
              "  </thead>\n",
              "  <tbody>\n",
              "    <tr>\n",
              "      <th>0</th>\n",
              "      <td>0.6520</td>\n",
              "      <td>0.280000</td>\n",
              "      <td>0.703</td>\n",
              "      <td>0.536</td>\n",
              "      <td>0.000000</td>\n",
              "      <td>0.1700</td>\n",
              "      <td>-10.523</td>\n",
              "      <td>0.0271</td>\n",
              "      <td>110.946</td>\n",
              "    </tr>\n",
              "    <tr>\n",
              "      <th>1</th>\n",
              "      <td>0.4570</td>\n",
              "      <td>0.864000</td>\n",
              "      <td>0.196</td>\n",
              "      <td>0.211</td>\n",
              "      <td>0.836000</td>\n",
              "      <td>0.0936</td>\n",
              "      <td>-24.619</td>\n",
              "      <td>0.0435</td>\n",
              "      <td>148.681</td>\n",
              "    </tr>\n",
              "    <tr>\n",
              "      <th>2</th>\n",
              "      <td>0.0642</td>\n",
              "      <td>0.000256</td>\n",
              "      <td>0.271</td>\n",
              "      <td>0.959</td>\n",
              "      <td>0.854000</td>\n",
              "      <td>0.0858</td>\n",
              "      <td>-5.866</td>\n",
              "      <td>0.1250</td>\n",
              "      <td>131.846</td>\n",
              "    </tr>\n",
              "    <tr>\n",
              "      <th>3</th>\n",
              "      <td>0.1190</td>\n",
              "      <td>0.745000</td>\n",
              "      <td>0.228</td>\n",
              "      <td>0.346</td>\n",
              "      <td>0.881000</td>\n",
              "      <td>0.1850</td>\n",
              "      <td>-10.995</td>\n",
              "      <td>0.0309</td>\n",
              "      <td>81.718</td>\n",
              "    </tr>\n",
              "    <tr>\n",
              "      <th>4</th>\n",
              "      <td>0.7420</td>\n",
              "      <td>0.004280</td>\n",
              "      <td>0.619</td>\n",
              "      <td>0.956</td>\n",
              "      <td>0.000035</td>\n",
              "      <td>0.0604</td>\n",
              "      <td>-6.886</td>\n",
              "      <td>0.0648</td>\n",
              "      <td>141.221</td>\n",
              "    </tr>\n",
              "  </tbody>\n",
              "</table>\n",
              "</div>"
            ],
            "text/plain": [
              "   valence  acousticness  danceability  ...  loudness  speechiness    tempo\n",
              "0   0.6520      0.280000         0.703  ...   -10.523       0.0271  110.946\n",
              "1   0.4570      0.864000         0.196  ...   -24.619       0.0435  148.681\n",
              "2   0.0642      0.000256         0.271  ...    -5.866       0.1250  131.846\n",
              "3   0.1190      0.745000         0.228  ...   -10.995       0.0309   81.718\n",
              "4   0.7420      0.004280         0.619  ...    -6.886       0.0648  141.221\n",
              "\n",
              "[5 rows x 9 columns]"
            ]
          },
          "metadata": {},
          "execution_count": 60
        }
      ]
    },
    {
      "cell_type": "code",
      "metadata": {
        "id": "zhMDLOpul9SJ"
      },
      "source": [
        "# data preprocessing\n",
        "from sklearn.preprocessing import MinMaxScaler\n",
        "scaler = MinMaxScaler()"
      ],
      "execution_count": 61,
      "outputs": []
    },
    {
      "cell_type": "code",
      "metadata": {
        "id": "gY3-9-b-mB6U"
      },
      "source": [
        "scaled = pd.DataFrame(scaler.fit_transform(x_trainC))\n",
        "scaled.columns = cols"
      ],
      "execution_count": 62,
      "outputs": []
    },
    {
      "cell_type": "code",
      "metadata": {
        "id": "0W8xjrPGm5ko",
        "colab": {
          "base_uri": "https://localhost:8080/",
          "height": 204
        },
        "outputId": "26c55590-fb1e-44bb-fc08-b0d5ffa2a4ca"
      },
      "source": [
        "scaled.head()"
      ],
      "execution_count": 63,
      "outputs": [
        {
          "output_type": "execute_result",
          "data": {
            "text/html": [
              "<div>\n",
              "<style scoped>\n",
              "    .dataframe tbody tr th:only-of-type {\n",
              "        vertical-align: middle;\n",
              "    }\n",
              "\n",
              "    .dataframe tbody tr th {\n",
              "        vertical-align: top;\n",
              "    }\n",
              "\n",
              "    .dataframe thead th {\n",
              "        text-align: right;\n",
              "    }\n",
              "</style>\n",
              "<table border=\"1\" class=\"dataframe\">\n",
              "  <thead>\n",
              "    <tr style=\"text-align: right;\">\n",
              "      <th></th>\n",
              "      <th>valence</th>\n",
              "      <th>acousticness</th>\n",
              "      <th>danceability</th>\n",
              "      <th>energy</th>\n",
              "      <th>instrumentalness</th>\n",
              "      <th>liveness</th>\n",
              "      <th>loudness</th>\n",
              "      <th>speechiness</th>\n",
              "      <th>tempo</th>\n",
              "    </tr>\n",
              "  </thead>\n",
              "  <tbody>\n",
              "    <tr>\n",
              "      <th>0</th>\n",
              "      <td>0.655936</td>\n",
              "      <td>0.281124</td>\n",
              "      <td>0.715158</td>\n",
              "      <td>0.536537</td>\n",
              "      <td>0.000000</td>\n",
              "      <td>0.170854</td>\n",
              "      <td>0.804727</td>\n",
              "      <td>0.027967</td>\n",
              "      <td>0.507913</td>\n",
              "    </tr>\n",
              "    <tr>\n",
              "      <th>1</th>\n",
              "      <td>0.459759</td>\n",
              "      <td>0.867470</td>\n",
              "      <td>0.199390</td>\n",
              "      <td>0.211211</td>\n",
              "      <td>0.836000</td>\n",
              "      <td>0.094070</td>\n",
              "      <td>0.575460</td>\n",
              "      <td>0.044892</td>\n",
              "      <td>0.680665</td>\n",
              "    </tr>\n",
              "    <tr>\n",
              "      <th>2</th>\n",
              "      <td>0.064588</td>\n",
              "      <td>0.000257</td>\n",
              "      <td>0.275687</td>\n",
              "      <td>0.959960</td>\n",
              "      <td>0.854000</td>\n",
              "      <td>0.086231</td>\n",
              "      <td>0.880471</td>\n",
              "      <td>0.128999</td>\n",
              "      <td>0.603594</td>\n",
              "    </tr>\n",
              "    <tr>\n",
              "      <th>3</th>\n",
              "      <td>0.119718</td>\n",
              "      <td>0.747992</td>\n",
              "      <td>0.231943</td>\n",
              "      <td>0.346346</td>\n",
              "      <td>0.881000</td>\n",
              "      <td>0.185930</td>\n",
              "      <td>0.797050</td>\n",
              "      <td>0.031889</td>\n",
              "      <td>0.374107</td>\n",
              "    </tr>\n",
              "    <tr>\n",
              "      <th>4</th>\n",
              "      <td>0.746479</td>\n",
              "      <td>0.004297</td>\n",
              "      <td>0.629705</td>\n",
              "      <td>0.956957</td>\n",
              "      <td>0.000035</td>\n",
              "      <td>0.060704</td>\n",
              "      <td>0.863881</td>\n",
              "      <td>0.066873</td>\n",
              "      <td>0.646513</td>\n",
              "    </tr>\n",
              "  </tbody>\n",
              "</table>\n",
              "</div>"
            ],
            "text/plain": [
              "    valence  acousticness  danceability  ...  loudness  speechiness     tempo\n",
              "0  0.655936      0.281124      0.715158  ...  0.804727     0.027967  0.507913\n",
              "1  0.459759      0.867470      0.199390  ...  0.575460     0.044892  0.680665\n",
              "2  0.064588      0.000257      0.275687  ...  0.880471     0.128999  0.603594\n",
              "3  0.119718      0.747992      0.231943  ...  0.797050     0.031889  0.374107\n",
              "4  0.746479      0.004297      0.629705  ...  0.863881     0.066873  0.646513\n",
              "\n",
              "[5 rows x 9 columns]"
            ]
          },
          "metadata": {},
          "execution_count": 63
        }
      ]
    },
    {
      "cell_type": "code",
      "metadata": {
        "id": "5PW5N8UtnEAb"
      },
      "source": [
        "scaled= scaler.fit_transform(x_trainC)"
      ],
      "execution_count": 64,
      "outputs": []
    },
    {
      "cell_type": "code",
      "metadata": {
        "id": "dvLo4sDYIVPN"
      },
      "source": [
        ""
      ],
      "execution_count": 64,
      "outputs": []
    },
    {
      "cell_type": "code",
      "metadata": {
        "id": "ydZWuMPAIfy8"
      },
      "source": [
        ""
      ],
      "execution_count": 64,
      "outputs": []
    },
    {
      "cell_type": "markdown",
      "metadata": {
        "id": "_ey3ObiGbjK-"
      },
      "source": [
        "GMM Model"
      ]
    },
    {
      "cell_type": "code",
      "metadata": {
        "id": "XO-DOGA1BSdd"
      },
      "source": [
        ""
      ],
      "execution_count": 64,
      "outputs": []
    },
    {
      "cell_type": "markdown",
      "metadata": {
        "id": "lh-DjNQBASbv"
      },
      "source": [
        "BIC Score"
      ]
    },
    {
      "cell_type": "code",
      "metadata": {
        "id": "XwyKU8vFbkOf"
      },
      "source": [
        "\n",
        "n_components = range(1, 30)\n",
        "covariance_type = ['spherical', 'tied', 'diag', 'full']\n",
        "scoreB=[]\n",
        "for cov in covariance_type:\n",
        "    for n_comp in n_components:\n",
        "        gmm=GaussianMixture(n_components=n_comp,covariance_type=cov, random_state = 10)\n",
        "        gmm.fit(scaled)\n",
        "        scoreB.append((cov,n_comp,gmm.bic(scaled)))\n",
        "score_1B = pd.DataFrame(scoreB)\n",
        "score_1B.columns = ['Covariance_Type', 'N_Components','BIC_Score']\n",
        "score_2B = score_1B[score_1B.BIC_Score == score_1B.BIC_Score.min()]\n",
        "\n"
      ],
      "execution_count": 65,
      "outputs": []
    },
    {
      "cell_type": "code",
      "metadata": {
        "id": "S8LFmIj553wt",
        "colab": {
          "base_uri": "https://localhost:8080/",
          "height": 419
        },
        "outputId": "8d48c5a0-aa2b-4d6e-a34b-c46b02458938"
      },
      "source": [
        "score_1B"
      ],
      "execution_count": 66,
      "outputs": [
        {
          "output_type": "execute_result",
          "data": {
            "text/html": [
              "<div>\n",
              "<style scoped>\n",
              "    .dataframe tbody tr th:only-of-type {\n",
              "        vertical-align: middle;\n",
              "    }\n",
              "\n",
              "    .dataframe tbody tr th {\n",
              "        vertical-align: top;\n",
              "    }\n",
              "\n",
              "    .dataframe thead th {\n",
              "        text-align: right;\n",
              "    }\n",
              "</style>\n",
              "<table border=\"1\" class=\"dataframe\">\n",
              "  <thead>\n",
              "    <tr style=\"text-align: right;\">\n",
              "      <th></th>\n",
              "      <th>Covariance_Type</th>\n",
              "      <th>N_Components</th>\n",
              "      <th>BIC_Score</th>\n",
              "    </tr>\n",
              "  </thead>\n",
              "  <tbody>\n",
              "    <tr>\n",
              "      <th>0</th>\n",
              "      <td>spherical</td>\n",
              "      <td>1</td>\n",
              "      <td>12.638432</td>\n",
              "    </tr>\n",
              "    <tr>\n",
              "      <th>1</th>\n",
              "      <td>spherical</td>\n",
              "      <td>2</td>\n",
              "      <td>-26372.510481</td>\n",
              "    </tr>\n",
              "    <tr>\n",
              "      <th>2</th>\n",
              "      <td>spherical</td>\n",
              "      <td>3</td>\n",
              "      <td>-39625.506306</td>\n",
              "    </tr>\n",
              "    <tr>\n",
              "      <th>3</th>\n",
              "      <td>spherical</td>\n",
              "      <td>4</td>\n",
              "      <td>-45041.138576</td>\n",
              "    </tr>\n",
              "    <tr>\n",
              "      <th>4</th>\n",
              "      <td>spherical</td>\n",
              "      <td>5</td>\n",
              "      <td>-53017.527944</td>\n",
              "    </tr>\n",
              "    <tr>\n",
              "      <th>...</th>\n",
              "      <td>...</td>\n",
              "      <td>...</td>\n",
              "      <td>...</td>\n",
              "    </tr>\n",
              "    <tr>\n",
              "      <th>111</th>\n",
              "      <td>full</td>\n",
              "      <td>25</td>\n",
              "      <td>-175113.043273</td>\n",
              "    </tr>\n",
              "    <tr>\n",
              "      <th>112</th>\n",
              "      <td>full</td>\n",
              "      <td>26</td>\n",
              "      <td>-174276.563750</td>\n",
              "    </tr>\n",
              "    <tr>\n",
              "      <th>113</th>\n",
              "      <td>full</td>\n",
              "      <td>27</td>\n",
              "      <td>-175156.605672</td>\n",
              "    </tr>\n",
              "    <tr>\n",
              "      <th>114</th>\n",
              "      <td>full</td>\n",
              "      <td>28</td>\n",
              "      <td>-174303.025551</td>\n",
              "    </tr>\n",
              "    <tr>\n",
              "      <th>115</th>\n",
              "      <td>full</td>\n",
              "      <td>29</td>\n",
              "      <td>-174595.989541</td>\n",
              "    </tr>\n",
              "  </tbody>\n",
              "</table>\n",
              "<p>116 rows × 3 columns</p>\n",
              "</div>"
            ],
            "text/plain": [
              "    Covariance_Type  N_Components      BIC_Score\n",
              "0         spherical             1      12.638432\n",
              "1         spherical             2  -26372.510481\n",
              "2         spherical             3  -39625.506306\n",
              "3         spherical             4  -45041.138576\n",
              "4         spherical             5  -53017.527944\n",
              "..              ...           ...            ...\n",
              "111            full            25 -175113.043273\n",
              "112            full            26 -174276.563750\n",
              "113            full            27 -175156.605672\n",
              "114            full            28 -174303.025551\n",
              "115            full            29 -174595.989541\n",
              "\n",
              "[116 rows x 3 columns]"
            ]
          },
          "metadata": {},
          "execution_count": 66
        }
      ]
    },
    {
      "cell_type": "code",
      "metadata": {
        "id": "1m-SFLy99GTw",
        "colab": {
          "base_uri": "https://localhost:8080/",
          "height": 80
        },
        "outputId": "b27408ea-42d4-438b-d98d-bbcbf02736f5"
      },
      "source": [
        "score_2B"
      ],
      "execution_count": 67,
      "outputs": [
        {
          "output_type": "execute_result",
          "data": {
            "text/html": [
              "<div>\n",
              "<style scoped>\n",
              "    .dataframe tbody tr th:only-of-type {\n",
              "        vertical-align: middle;\n",
              "    }\n",
              "\n",
              "    .dataframe tbody tr th {\n",
              "        vertical-align: top;\n",
              "    }\n",
              "\n",
              "    .dataframe thead th {\n",
              "        text-align: right;\n",
              "    }\n",
              "</style>\n",
              "<table border=\"1\" class=\"dataframe\">\n",
              "  <thead>\n",
              "    <tr style=\"text-align: right;\">\n",
              "      <th></th>\n",
              "      <th>Covariance_Type</th>\n",
              "      <th>N_Components</th>\n",
              "      <th>BIC_Score</th>\n",
              "    </tr>\n",
              "  </thead>\n",
              "  <tbody>\n",
              "    <tr>\n",
              "      <th>113</th>\n",
              "      <td>full</td>\n",
              "      <td>27</td>\n",
              "      <td>-175156.605672</td>\n",
              "    </tr>\n",
              "  </tbody>\n",
              "</table>\n",
              "</div>"
            ],
            "text/plain": [
              "    Covariance_Type  N_Components      BIC_Score\n",
              "113            full            27 -175156.605672"
            ]
          },
          "metadata": {},
          "execution_count": 67
        }
      ]
    },
    {
      "cell_type": "code",
      "metadata": {
        "id": "Vw1nI5lgKlgc",
        "colab": {
          "base_uri": "https://localhost:8080/",
          "height": 313
        },
        "outputId": "fa72e0b7-416b-4db7-c5b6-52d753840dfc"
      },
      "source": [
        "sns.lineplot(data=score_1B,x=\"N_Components\", y=\"BIC_Score\").set_title(\"BIC Score of a number of GMM Components\")"
      ],
      "execution_count": 68,
      "outputs": [
        {
          "output_type": "execute_result",
          "data": {
            "text/plain": [
              "Text(0.5, 1.0, 'BIC Score of a number of GMM Components')"
            ]
          },
          "metadata": {},
          "execution_count": 68
        },
        {
          "output_type": "display_data",
          "data": {
            "image/png": "[encoded data removed]",
            "text/plain": [
              "<Figure size 432x288 with 1 Axes>"
            ]
          },
          "metadata": {
            "needs_background": "light"
          }
        }
      ]
    },
    {
      "cell_type": "markdown",
      "metadata": {
        "id": "MSrYLQuSAr7t"
      },
      "source": [
        "Silhouette Score"
      ]
    },
    {
      "cell_type": "code",
      "metadata": {
        "id": "nTjOgLhJAWlC"
      },
      "source": [
        "from sklearn.metrics import silhouette_score "
      ],
      "execution_count": 69,
      "outputs": []
    },
    {
      "cell_type": "code",
      "metadata": {
        "id": "tgu6hmTHAWoB"
      },
      "source": [
        "n_components = range(2, 40)\n",
        "covariance_type = ['spherical', 'tied', 'diag', 'full']\n",
        "score=[]\n",
        "for cov in covariance_type:\n",
        "    for n_comp in n_components:\n",
        "        gmm=GaussianMixture(n_components=n_comp,covariance_type=cov,random_state = 10)\n",
        "        model = gmm.fit(scaled)\n",
        "        model_2 = model.predict(scaled)\n",
        "        score_s = silhouette_score(scaled, model_2, metric='euclidean')\n",
        "        score.append((cov,n_comp,score_s))\n",
        "score_1 = pd.DataFrame(score)\n",
        "score_1.columns = ['Covariance_Type', 'N_Components','Silhouette_Score']\n",
        "score_2 = score_1[score_1.Silhouette_Score == score_1.Silhouette_Score.max()]\n"
      ],
      "execution_count": 70,
      "outputs": []
    },
    {
      "cell_type": "code",
      "metadata": {
        "id": "O89VyLTRAiO-"
      },
      "source": [
        "score_1"
      ],
      "execution_count": null,
      "outputs": []
    },
    {
      "cell_type": "code",
      "metadata": {
        "id": "qyQn0sSuNY49"
      },
      "source": [
        "score_2"
      ],
      "execution_count": null,
      "outputs": []
    },
    {
      "cell_type": "code",
      "metadata": {
        "id": "BlSGOrB_5FpF"
      },
      "source": [
        "sns.lineplot(data=score_1,x=\"N_Components\", y=\"Silhouette_Score\").set_title(\"Silhouette Score of different number of GMM Components\")"
      ],
      "execution_count": null,
      "outputs": []
    },
    {
      "cell_type": "code",
      "metadata": {
        "id": "T6dthxkRcuAx"
      },
      "source": [
        ""
      ],
      "execution_count": null,
      "outputs": []
    },
    {
      "cell_type": "markdown",
      "metadata": {
        "id": "8Kv4afePBgWL"
      },
      "source": [
        "Now let's apply suggested clusters"
      ]
    },
    {
      "cell_type": "code",
      "metadata": {
        "id": "0SOI8aYNb2hd"
      },
      "source": [
        "gmm = GaussianMixture(27, \n",
        "                     covariance_type='full', \n",
        "                     random_state=0).fit(scaled)\n",
        "#plt.scatter(x_train[:, 0], x_train[:, 1], c=labels, s=40, cmap='viridis');\n",
        "\n"
      ],
      "execution_count": 91,
      "outputs": []
    },
    {
      "cell_type": "code",
      "metadata": {
        "id": "1tO7NvT9zPE5",
        "colab": {
          "base_uri": "https://localhost:8080/"
        },
        "outputId": "c0cc0192-9579-4e5e-b91a-60ff3009ccb6"
      },
      "source": [
        "labels = gmm.predict(scaled)\n",
        "labels"
      ],
      "execution_count": 92,
      "outputs": [
        {
          "output_type": "execute_result",
          "data": {
            "text/plain": [
              "array([ 8,  3, 23, ...,  8, 25, 12])"
            ]
          },
          "metadata": {},
          "execution_count": 92
        }
      ]
    },
    {
      "cell_type": "code",
      "metadata": {
        "id": "EWIGyugxBSlI"
      },
      "source": [
        ""
      ],
      "execution_count": 92,
      "outputs": []
    },
    {
      "cell_type": "code",
      "metadata": {
        "id": "MwrxMPL-rNz2",
        "colab": {
          "base_uri": "https://localhost:8080/",
          "height": 221
        },
        "outputId": "a9823bdb-ae0d-49e5-f793-13d06dfae2ab"
      },
      "source": [
        "# converting preditcions into a df\n",
        "gmmL = pd.DataFrame(data=labels, dtype=int)\n",
        "gmmL.columns = ['GMM_Cluster']\n",
        "\n",
        "# predictions as a df\n",
        "print(gmmL.shape)\n",
        "gmmL.tail()"
      ],
      "execution_count": 93,
      "outputs": [
        {
          "output_type": "stream",
          "name": "stdout",
          "text": [
            "(10001, 1)\n"
          ]
        },
        {
          "output_type": "execute_result",
          "data": {
            "text/html": [
              "<div>\n",
              "<style scoped>\n",
              "    .dataframe tbody tr th:only-of-type {\n",
              "        vertical-align: middle;\n",
              "    }\n",
              "\n",
              "    .dataframe tbody tr th {\n",
              "        vertical-align: top;\n",
              "    }\n",
              "\n",
              "    .dataframe thead th {\n",
              "        text-align: right;\n",
              "    }\n",
              "</style>\n",
              "<table border=\"1\" class=\"dataframe\">\n",
              "  <thead>\n",
              "    <tr style=\"text-align: right;\">\n",
              "      <th></th>\n",
              "      <th>GMM_Cluster</th>\n",
              "    </tr>\n",
              "  </thead>\n",
              "  <tbody>\n",
              "    <tr>\n",
              "      <th>9996</th>\n",
              "      <td>12</td>\n",
              "    </tr>\n",
              "    <tr>\n",
              "      <th>9997</th>\n",
              "      <td>12</td>\n",
              "    </tr>\n",
              "    <tr>\n",
              "      <th>9998</th>\n",
              "      <td>8</td>\n",
              "    </tr>\n",
              "    <tr>\n",
              "      <th>9999</th>\n",
              "      <td>25</td>\n",
              "    </tr>\n",
              "    <tr>\n",
              "      <th>10000</th>\n",
              "      <td>12</td>\n",
              "    </tr>\n",
              "  </tbody>\n",
              "</table>\n",
              "</div>"
            ],
            "text/plain": [
              "       GMM_Cluster\n",
              "9996            12\n",
              "9997            12\n",
              "9998             8\n",
              "9999            25\n",
              "10000           12"
            ]
          },
          "metadata": {},
          "execution_count": 93
        }
      ]
    },
    {
      "cell_type": "code",
      "metadata": {
        "id": "AWrVzvrJ_wyT",
        "colab": {
          "base_uri": "https://localhost:8080/"
        },
        "outputId": "9a3e2d28-c432-4156-d1e7-d5b6a155d492"
      },
      "source": [
        "x_trainC.shape"
      ],
      "execution_count": 94,
      "outputs": [
        {
          "output_type": "execute_result",
          "data": {
            "text/plain": [
              "(10001, 10)"
            ]
          },
          "metadata": {},
          "execution_count": 94
        }
      ]
    },
    {
      "cell_type": "code",
      "metadata": {
        "id": "AyQQinw2g4R8"
      },
      "source": [
        "x_trainC[\"GMM_Clusters\"] =gmmL[\"GMM_Cluster\"]"
      ],
      "execution_count": 95,
      "outputs": []
    },
    {
      "cell_type": "code",
      "metadata": {
        "id": "wyb-QhnpzEpo",
        "colab": {
          "base_uri": "https://localhost:8080/",
          "height": 667
        },
        "outputId": "624abacd-3755-4b18-dcc3-c64db8d444d7"
      },
      "source": [
        "fig, ax = plt.subplots(figsize=(13,11))\n",
        "ax = fig.add_subplot(111, projection='3d')\n",
        "\n",
        "plt.scatter(scaled[labels == 0,0],scaled[labels == 0,1], s= 50, label= 'Cluster 1')\n",
        "plt.scatter(scaled[labels == 1,0], scaled[labels == 1,1], s= 50,  label= 'Cluster 2')\n",
        "plt.scatter(scaled[labels == 2,0], scaled[labels == 2,1], s= 50, label= 'Cluster 3')\n",
        "plt.scatter(scaled[labels == 3,0], scaled[labels == 3,1], s= 50,  label= 'Cluster 4')\n",
        "plt.scatter(scaled[labels == 4,0], scaled[labels == 4,1], s= 50, label= 'Cluster 5')\n",
        "plt.scatter(scaled[labels == 5,0],scaled[labels == 5,1], s= 50, label= 'Cluster 6')\n",
        "plt.scatter(scaled[labels == 6,0], scaled[labels == 6,1], s= 50, label= 'Cluster 7')\n",
        "plt.scatter(scaled[labels == 7,0], scaled[labels == 7,1], s= 50, label= 'Cluster 8')\n",
        "plt.scatter(scaled[labels == 8,0], scaled[labels == 8,1], s= 50, label= 'Cluster 9')\n",
        "plt.scatter(scaled[labels == 9,0],scaled[labels == 9,1], s= 50, label= 'Cluster 10')\n",
        "plt.scatter(scaled[labels == 10,0], scaled[labels == 10,1], s= 50, label= 'Cluster 11')\n",
        "plt.scatter(scaled[labels == 11,0], scaled[labels == 11,1], s= 50, label= 'Cluster 12')\n",
        "plt.scatter(scaled[labels == 12,0], scaled[labels == 12,1], s= 50, label= 'Cluster 13')\n",
        "plt.scatter(scaled[labels == 13,0],scaled[labels == 13,1], s= 50,label= 'Cluster 14')\n",
        "plt.scatter(scaled[labels == 14,0], scaled[labels == 14,1], s= 50, label= 'Cluster 15')\n",
        "plt.scatter(scaled[labels == 15,0], scaled[labels == 15,1], s= 50, label= 'Cluster 6')\n",
        "plt.scatter(scaled[labels == 16,0], scaled[labels == 16,1], s= 50, label= 'Cluster 17')\n",
        "plt.scatter(scaled[labels == 17,0], scaled[labels == 17,1], s= 50, label= 'Cluster 18')\n",
        "plt.scatter(scaled[labels == 18,0], scaled[labels == 18,1], s= 50, label= 'Cluster 19')\n",
        "plt.scatter(scaled[labels == 19,0], scaled[labels == 19,1], s= 50, label= 'Cluster 20')\n",
        "plt.scatter(scaled[labels == 20,0],scaled[labels == 20,1], s= 50, label= 'Cluster 21')\n",
        "plt.scatter(scaled[labels == 21,0], scaled[labels == 21,1], s= 50, label= 'Cluster 22')\n",
        "plt.scatter(scaled[labels == 22,0], scaled[labels == 22,1], s= 50, label= 'Cluster 23')\n",
        "plt.scatter(scaled[labels == 23,0], scaled[labels == 23,1], s= 50, label= 'Cluster 24')\n",
        "plt.scatter(scaled[labels == 24,0],scaled[labels == 24,1], s= 50, label= 'Cluster 25')\n",
        "plt.scatter(scaled[labels == 25,0], scaled[labels == 25,1], s= 50, label= 'Cluster 26')\n",
        "plt.scatter(scaled[labels == 26,0], scaled[labels == 26,1], s= 50, label= 'Cluster 27')\n"
      ],
      "execution_count": 96,
      "outputs": [
        {
          "output_type": "execute_result",
          "data": {
            "text/plain": [
              "<mpl_toolkits.mplot3d.art3d.Path3DCollection at 0x7f78b21f2810>"
            ]
          },
          "metadata": {},
          "execution_count": 96
        },
        {
          "output_type": "display_data",
          "data": {
            "image/png": "[encoded data removed]",
            "text/plain": [
              "<Figure size 936x792 with 2 Axes>"
            ]
          },
          "metadata": {
            "needs_background": "light"
          }
        }
      ]
    },
    {
      "cell_type": "code",
      "metadata": {
        "id": "Jx8vJDJE40j-"
      },
      "source": [
        ""
      ],
      "execution_count": null,
      "outputs": []
    },
    {
      "cell_type": "markdown",
      "metadata": {
        "id": "TqhqG6TL4RxU"
      },
      "source": [
        "Random Forest"
      ]
    },
    {
      "cell_type": "code",
      "metadata": {
        "colab": {
          "base_uri": "https://localhost:8080/",
          "height": 419
        },
        "id": "yK16SSKb5EnJ",
        "outputId": "74402a33-0254-4b96-d7f5-b5ee5e574ece"
      },
      "source": [
        "x_trainC.iloc[:,:-1]"
      ],
      "execution_count": 80,
      "outputs": [
        {
          "output_type": "execute_result",
          "data": {
            "text/html": [
              "<div>\n",
              "<style scoped>\n",
              "    .dataframe tbody tr th:only-of-type {\n",
              "        vertical-align: middle;\n",
              "    }\n",
              "\n",
              "    .dataframe tbody tr th {\n",
              "        vertical-align: top;\n",
              "    }\n",
              "\n",
              "    .dataframe thead th {\n",
              "        text-align: right;\n",
              "    }\n",
              "</style>\n",
              "<table border=\"1\" class=\"dataframe\">\n",
              "  <thead>\n",
              "    <tr style=\"text-align: right;\">\n",
              "      <th></th>\n",
              "      <th>valence</th>\n",
              "      <th>acousticness</th>\n",
              "      <th>danceability</th>\n",
              "      <th>energy</th>\n",
              "      <th>instrumentalness</th>\n",
              "      <th>liveness</th>\n",
              "      <th>loudness</th>\n",
              "      <th>speechiness</th>\n",
              "      <th>tempo</th>\n",
              "    </tr>\n",
              "  </thead>\n",
              "  <tbody>\n",
              "    <tr>\n",
              "      <th>0</th>\n",
              "      <td>0.6520</td>\n",
              "      <td>0.280000</td>\n",
              "      <td>0.703</td>\n",
              "      <td>0.536</td>\n",
              "      <td>0.000000</td>\n",
              "      <td>0.1700</td>\n",
              "      <td>-10.523</td>\n",
              "      <td>0.0271</td>\n",
              "      <td>110.946</td>\n",
              "    </tr>\n",
              "    <tr>\n",
              "      <th>1</th>\n",
              "      <td>0.4570</td>\n",
              "      <td>0.864000</td>\n",
              "      <td>0.196</td>\n",
              "      <td>0.211</td>\n",
              "      <td>0.836000</td>\n",
              "      <td>0.0936</td>\n",
              "      <td>-24.619</td>\n",
              "      <td>0.0435</td>\n",
              "      <td>148.681</td>\n",
              "    </tr>\n",
              "    <tr>\n",
              "      <th>2</th>\n",
              "      <td>0.0642</td>\n",
              "      <td>0.000256</td>\n",
              "      <td>0.271</td>\n",
              "      <td>0.959</td>\n",
              "      <td>0.854000</td>\n",
              "      <td>0.0858</td>\n",
              "      <td>-5.866</td>\n",
              "      <td>0.1250</td>\n",
              "      <td>131.846</td>\n",
              "    </tr>\n",
              "    <tr>\n",
              "      <th>3</th>\n",
              "      <td>0.1190</td>\n",
              "      <td>0.745000</td>\n",
              "      <td>0.228</td>\n",
              "      <td>0.346</td>\n",
              "      <td>0.881000</td>\n",
              "      <td>0.1850</td>\n",
              "      <td>-10.995</td>\n",
              "      <td>0.0309</td>\n",
              "      <td>81.718</td>\n",
              "    </tr>\n",
              "    <tr>\n",
              "      <th>4</th>\n",
              "      <td>0.7420</td>\n",
              "      <td>0.004280</td>\n",
              "      <td>0.619</td>\n",
              "      <td>0.956</td>\n",
              "      <td>0.000035</td>\n",
              "      <td>0.0604</td>\n",
              "      <td>-6.886</td>\n",
              "      <td>0.0648</td>\n",
              "      <td>141.221</td>\n",
              "    </tr>\n",
              "    <tr>\n",
              "      <th>...</th>\n",
              "      <td>...</td>\n",
              "      <td>...</td>\n",
              "      <td>...</td>\n",
              "      <td>...</td>\n",
              "      <td>...</td>\n",
              "      <td>...</td>\n",
              "      <td>...</td>\n",
              "      <td>...</td>\n",
              "      <td>...</td>\n",
              "    </tr>\n",
              "    <tr>\n",
              "      <th>9996</th>\n",
              "      <td>0.4860</td>\n",
              "      <td>0.076000</td>\n",
              "      <td>0.471</td>\n",
              "      <td>0.572</td>\n",
              "      <td>0.003210</td>\n",
              "      <td>0.1070</td>\n",
              "      <td>-11.726</td>\n",
              "      <td>0.0482</td>\n",
              "      <td>136.590</td>\n",
              "    </tr>\n",
              "    <tr>\n",
              "      <th>9997</th>\n",
              "      <td>0.8160</td>\n",
              "      <td>0.617000</td>\n",
              "      <td>0.749</td>\n",
              "      <td>0.333</td>\n",
              "      <td>0.000346</td>\n",
              "      <td>0.0806</td>\n",
              "      <td>-10.627</td>\n",
              "      <td>0.0521</td>\n",
              "      <td>115.754</td>\n",
              "    </tr>\n",
              "    <tr>\n",
              "      <th>9998</th>\n",
              "      <td>0.6310</td>\n",
              "      <td>0.276000</td>\n",
              "      <td>0.518</td>\n",
              "      <td>0.484</td>\n",
              "      <td>0.000041</td>\n",
              "      <td>0.0979</td>\n",
              "      <td>-9.342</td>\n",
              "      <td>0.0254</td>\n",
              "      <td>73.304</td>\n",
              "    </tr>\n",
              "    <tr>\n",
              "      <th>9999</th>\n",
              "      <td>0.5940</td>\n",
              "      <td>0.826000</td>\n",
              "      <td>0.512</td>\n",
              "      <td>0.437</td>\n",
              "      <td>0.000000</td>\n",
              "      <td>0.3440</td>\n",
              "      <td>-15.390</td>\n",
              "      <td>0.1990</td>\n",
              "      <td>134.039</td>\n",
              "    </tr>\n",
              "    <tr>\n",
              "      <th>10000</th>\n",
              "      <td>0.8820</td>\n",
              "      <td>0.774000</td>\n",
              "      <td>0.811</td>\n",
              "      <td>0.676</td>\n",
              "      <td>0.000104</td>\n",
              "      <td>0.0419</td>\n",
              "      <td>-3.012</td>\n",
              "      <td>0.0534</td>\n",
              "      <td>97.884</td>\n",
              "    </tr>\n",
              "  </tbody>\n",
              "</table>\n",
              "<p>10001 rows × 9 columns</p>\n",
              "</div>"
            ],
            "text/plain": [
              "       valence  acousticness  danceability  ...  loudness  speechiness    tempo\n",
              "0       0.6520      0.280000         0.703  ...   -10.523       0.0271  110.946\n",
              "1       0.4570      0.864000         0.196  ...   -24.619       0.0435  148.681\n",
              "2       0.0642      0.000256         0.271  ...    -5.866       0.1250  131.846\n",
              "3       0.1190      0.745000         0.228  ...   -10.995       0.0309   81.718\n",
              "4       0.7420      0.004280         0.619  ...    -6.886       0.0648  141.221\n",
              "...        ...           ...           ...  ...       ...          ...      ...\n",
              "9996    0.4860      0.076000         0.471  ...   -11.726       0.0482  136.590\n",
              "9997    0.8160      0.617000         0.749  ...   -10.627       0.0521  115.754\n",
              "9998    0.6310      0.276000         0.518  ...    -9.342       0.0254   73.304\n",
              "9999    0.5940      0.826000         0.512  ...   -15.390       0.1990  134.039\n",
              "10000   0.8820      0.774000         0.811  ...    -3.012       0.0534   97.884\n",
              "\n",
              "[10001 rows x 9 columns]"
            ]
          },
          "metadata": {},
          "execution_count": 80
        }
      ]
    },
    {
      "cell_type": "code",
      "metadata": {
        "id": "PM30_O2f4WHq"
      },
      "source": [
        "from sklearn.ensemble import RandomForestClassifier\n",
        "from sklearn.tree import export_graphviz\n",
        "from sklearn.metrics import confusion_matrix\n",
        "from sklearn.metrics import roc_curve, auc"
      ],
      "execution_count": 81,
      "outputs": []
    },
    {
      "cell_type": "code",
      "metadata": {
        "colab": {
          "base_uri": "https://localhost:8080/"
        },
        "id": "wzT4uboG4nm-",
        "outputId": "b0306ce1-df1b-4fba-8b33-771d0c47d200"
      },
      "source": [
        "rf = RandomForestClassifier(max_depth=5)\n",
        "rf.fit(x_trainC.iloc[:,:-1], x_trainC.iloc[:,-1])\n"
      ],
      "execution_count": 82,
      "outputs": [
        {
          "output_type": "execute_result",
          "data": {
            "text/plain": [
              "RandomForestClassifier(max_depth=5)"
            ]
          },
          "metadata": {},
          "execution_count": 82
        }
      ]
    },
    {
      "cell_type": "code",
      "metadata": {
        "id": "QvaEYW2-52qp"
      },
      "source": [
        ""
      ],
      "execution_count": null,
      "outputs": []
    },
    {
      "cell_type": "code",
      "metadata": {
        "id": "JzevDLae76eB"
      },
      "source": [
        ""
      ],
      "execution_count": null,
      "outputs": []
    },
    {
      "cell_type": "markdown",
      "metadata": {
        "id": "YsNUh3Wv4Tsq"
      },
      "source": [
        "K-Means"
      ]
    },
    {
      "cell_type": "markdown",
      "metadata": {
        "id": "UnMASbR8RNsy"
      },
      "source": [
        "Accuracy"
      ]
    },
    {
      "cell_type": "code",
      "metadata": {
        "id": "bMPbHnf7-4ja"
      },
      "source": [
        "#KMeans\n",
        "#Silhouette Score\n",
        "n_components = range(2, 30)\n",
        "covariance_type = ['spherical', 'tied', 'diag', 'full']\n",
        "score=[]\n",
        "for cov in covariance_type:\n",
        "    for n_comp in n_components:\n",
        "        kmeans = KMeans(n_comp)\n",
        "        kmeans.fit(scaled)\n",
        "        pred = kmeans.predict(scaled)\n",
        "        score_s = silhouette_score(scaled, pred, metric='euclidean')\n",
        "        score.append((cov,n_comp,score_s))\n",
        "score_1 = pd.DataFrame(score)\n",
        "score_1.columns = ['Covariance_Type', 'N_Components','Silhouette_Score']\n",
        "score_2 = score_1[score_1.Silhouette_Score == score_1.Silhouette_Score.max()]\n"
      ],
      "execution_count": 86,
      "outputs": []
    },
    {
      "cell_type": "code",
      "metadata": {
        "colab": {
          "base_uri": "https://localhost:8080/",
          "height": 80
        },
        "id": "yTUgIfdLHus9",
        "outputId": "a723f656-e2ec-4292-c459-96561c7e6607"
      },
      "source": [
        "score_2"
      ],
      "execution_count": 87,
      "outputs": [
        {
          "output_type": "execute_result",
          "data": {
            "text/html": [
              "<div>\n",
              "<style scoped>\n",
              "    .dataframe tbody tr th:only-of-type {\n",
              "        vertical-align: middle;\n",
              "    }\n",
              "\n",
              "    .dataframe tbody tr th {\n",
              "        vertical-align: top;\n",
              "    }\n",
              "\n",
              "    .dataframe thead th {\n",
              "        text-align: right;\n",
              "    }\n",
              "</style>\n",
              "<table border=\"1\" class=\"dataframe\">\n",
              "  <thead>\n",
              "    <tr style=\"text-align: right;\">\n",
              "      <th></th>\n",
              "      <th>Covariance_Type</th>\n",
              "      <th>N_Components</th>\n",
              "      <th>Silhouette_Score</th>\n",
              "    </tr>\n",
              "  </thead>\n",
              "  <tbody>\n",
              "    <tr>\n",
              "      <th>84</th>\n",
              "      <td>full</td>\n",
              "      <td>2</td>\n",
              "      <td>0.315127</td>\n",
              "    </tr>\n",
              "  </tbody>\n",
              "</table>\n",
              "</div>"
            ],
            "text/plain": [
              "   Covariance_Type  N_Components  Silhouette_Score\n",
              "84            full             2          0.315127"
            ]
          },
          "metadata": {},
          "execution_count": 87
        }
      ]
    },
    {
      "cell_type": "code",
      "metadata": {
        "id": "EwkqS6NTUeL2"
      },
      "source": [
        "!pip install pyvis"
      ],
      "execution_count": null,
      "outputs": []
    },
    {
      "cell_type": "markdown",
      "metadata": {
        "id": "nhH0uSc6VIEd"
      },
      "source": [
        "DAG:"
      ]
    },
    {
      "cell_type": "code",
      "metadata": {
        "id": "XLTVNjt866Bo"
      },
      "source": [
        "x_train.columns\n",
        "# bn.structure_learning.fit(x_train)\n",
        "#print(DAG['adjmat'])"
      ],
      "execution_count": null,
      "outputs": []
    },
    {
      "cell_type": "code",
      "metadata": {
        "id": "yn1N34zoG52V"
      },
      "source": [
        "edges=[('GMM_Clusters', 'valence'),\n",
        "       ('GMM_Clusters','acousticness'),\n",
        "       ('GMM_Clusters','speechiness'),\n",
        "       ('GMM_Clusters','danceability'),\n",
        "       ('GMM_Clusters', 'energy'),\n",
        "       ('GMM_Clusters','instrumentalness'),\n",
        "       ('GMM_Clusters','liveness'),\n",
        "       ('GMM_Clusters','loudness'),\n",
        "       ('GMM_Clusters','tempo')]"
      ],
      "execution_count": null,
      "outputs": []
    },
    {
      "cell_type": "code",
      "metadata": {
        "id": "BBsWnG2BITN2"
      },
      "source": [
        "DAG = bn.make_DAG(edges)\n",
        "bn.plot(DAG)\n"
      ],
      "execution_count": null,
      "outputs": []
    },
    {
      "cell_type": "code",
      "metadata": {
        "id": "og1hD9dpIsRW"
      },
      "source": [
        "model_mle = bn.parameter_learning.fit(DAG, x_train, methodtype='maximumlikelihood')"
      ],
      "execution_count": null,
      "outputs": []
    },
    {
      "cell_type": "code",
      "metadata": {
        "id": "Vb-RpZeJJdib"
      },
      "source": [
        "bn.print_CPD(model_mle)"
      ],
      "execution_count": null,
      "outputs": []
    },
    {
      "cell_type": "markdown",
      "metadata": {
        "id": "wYdn_JEFL9Pm"
      },
      "source": [
        "Making Bayesian Inferences"
      ]
    },
    {
      "cell_type": "code",
      "metadata": {
        "id": "tG2wOWbiuXrL"
      },
      "source": [
        "model = bn.parameter_learning.fit(DAG, x_train, methodtype='maximumlikelihood')\n",
        "bn.print_CPD(model)\n"
      ],
      "execution_count": null,
      "outputs": []
    },
    {
      "cell_type": "code",
      "metadata": {
        "id": "pFi_GARJuXrM"
      },
      "source": [
        "\n",
        "q1 = bn.inference.fit(model, variables=['GMM_Clusters'], evidence={'Sprinkler':0})\n",
        "print(q1.df)"
      ],
      "execution_count": null,
      "outputs": []
    },
    {
      "cell_type": "code",
      "metadata": {
        "id": "kxQQbfq_uXrO"
      },
      "source": [
        ""
      ],
      "execution_count": null,
      "outputs": []
    }
  ]
}